{
 "cells": [
  {
   "cell_type": "code",
   "execution_count": null,
   "metadata": {},
   "outputs": [],
   "source": [
    "#=========================================================================\n",
    "# EXAMPLE ON FITTING: CO2 curve\n",
    "#=========================================================================\n",
    "import os,warnings\n",
    "import numpy as np\n",
    "from datetime import datetime\n",
    "import matplotlib.pyplot as plt\n",
    "from matplotlib.dates import YearLocator,DateFormatter\n",
    "from matplotlib.ticker import MultipleLocator\n"
   ]
  },
  {
   "cell_type": "code",
   "execution_count": null,
   "metadata": {},
   "outputs": [],
   "source": [
    "#=========================================================================\n",
    "# Load the Keeling Curve.\n",
    "#=========================================================================\n",
    "fileName = 'co2_mm_mlo.txt'\n",
    "count = 0\n",
    "with open(fileName,'r') as f:\n",
    "    for line in f:\n",
    "        if line.startswith('#'):\n",
    "            count+=1\n",
    "            \n",
    "CO2 = {}\n",
    "CO2['year'],CO2['month'],CO2['co2'] = np.loadtxt(fileName,skiprows=count,usecols=(0,1,4),unpack=True)\n",
    "\n",
    "#CO2 = LoadMATFile('CO2.mat')\n"
   ]
  },
  {
   "cell_type": "code",
   "execution_count": null,
   "metadata": {},
   "outputs": [],
   "source": [
    "plt.figure()\n",
    "plt.plot(CO2['co2'])\n",
    "plt.show(block=False)"
   ]
  },
  {
   "cell_type": "code",
   "execution_count": null,
   "metadata": {},
   "outputs": [],
   "source": [
    "#=========================================================================\n",
    "# Eliminate any nan values.\n",
    "#=========================================================================\n",
    "dates = np.array([datetime(int(y),int(m),15) for y,m in zip(CO2['year'],CO2['month'])])\n",
    "\n",
    "y = CO2['co2'].copy()\n",
    "t = np.arange(1,CO2['co2'].size+1)\n",
    "N = len(t)\n",
    "\n",
    "print(dates)"
   ]
  },
  {
   "cell_type": "code",
   "execution_count": null,
   "metadata": {},
   "outputs": [],
   "source": [
    "#=========================================================================\n",
    "# Choose an observational/measurement error. Make error covariance Rnn\n",
    "#=========================================================================\n",
    "std_n=2;\n",
    "#std_n=0.1\n",
    "\n",
    "Rnn = std_n**2*np.diag(np.ones(N))\n"
   ]
  },
  {
   "cell_type": "code",
   "execution_count": null,
   "metadata": {},
   "outputs": [],
   "source": [
    "#=========================================================================\n",
    "# Set the matrix E for the FULL model y = a + b*t + c*t^2 + d*cos(2*pi*t/12) + e*sin(2*pi*t/12)\n",
    "#=========================================================================\n",
    "E = np.ones((N,5))*np.nan\n",
    "\n",
    "E[:,0] = 1\n",
    "E[:,1] = t\n",
    "E[:,2] = t**2\n",
    "E[:,3] = np.cos(2.*np.pi*t/12.)\n",
    "E[:,4] = np.sin(2.*np.pi*t/12.);\n"
   ]
  },
  {
   "cell_type": "code",
   "execution_count": null,
   "metadata": {},
   "outputs": [],
   "source": [
    "#=========================================================================\n",
    "# Set the parameters we will want to test. Can be a subset of the columns.\n",
    "#=========================================================================\n",
    "params = np.arange(2) #Linear fit.\n",
    "#params = np.arange(3) #Linear + quadratic.\n",
    "#params =np.arange(5) # Full model.\n",
    "\n",
    "E = E[:,params]\n",
    "print(E)\n"
   ]
  },
  {
   "cell_type": "code",
   "execution_count": null,
   "metadata": {},
   "outputs": [],
   "source": [
    "#=========================================================================\n",
    "# Run the model to get xhat.\n",
    "#=========================================================================\n",
    "invETE = np.linalg.inv(np.dot(E.T,E))\n",
    "xhat = invETE.dot(E.T).dot(y)\n",
    "yhat = np.dot(E,xhat)\n",
    "\n",
    "print(xhat)\n"
   ]
  },
  {
   "cell_type": "code",
   "execution_count": null,
   "metadata": {},
   "outputs": [],
   "source": [
    "#=========================================================================\n",
    "# Uncertainty in the model parameters.\n",
    "#=========================================================================\n",
    "P = invETE.dot(E.T).dot(Rnn).dot(E).dot(invETE)\n",
    "\n",
    "se = np.sqrt(np.diag(P))\n",
    "R2 = np.nanvar(yhat-np.nanmean(y))/np.nanvar(y)\n",
    "\n",
    "nhat = y - yhat\n",
    "print(se)\n",
    "print(R2)"
   ]
  },
  {
   "cell_type": "code",
   "execution_count": null,
   "metadata": {},
   "outputs": [],
   "source": [
    "#=========================================================================\n",
    "# Plot results.\n",
    "#=========================================================================\n",
    "years = YearLocator(5)   \n",
    "yearsFmt = DateFormatter('%Y')\n",
    "\n",
    "fig,axes = plt.subplots(figsize=(12,8),nrows=2,ncols=2,sharex=True)\n",
    "\n",
    "ax1 = axes[0,0]; ax2 = axes[0,1]; ax3 = axes[1,0]; ax4 = axes[1,1]\n",
    "\n",
    "#FIT\n",
    "ax1.plot(dates,y,'k-',lw=2)\n",
    "ax1.plot(dates,yhat,'r-',lw=2)\n",
    "ax1.set_title('LSQ FIT (Obs-Black, Estimate-Red)',name='Calibri',size=14,weight='bold')\n",
    "ax1.set_ylabel('PPM',name='Calibri',size=12,weight='bold')\n",
    "ax1.set(ylim=[300,420],yticks=np.arange(300,430,20),xlim=[datetime(1970,1,15),datetime(2019,1,15)])\n",
    "\n",
    "ax1.xaxis.set_major_locator(YearLocator(5))\n",
    "ax1.xaxis.set_minor_locator(YearLocator(1))\n",
    "ax1.xaxis.set_major_formatter(yearsFmt)\n",
    "\n",
    "ax1.yaxis.set_minor_locator(MultipleLocator(2))\n",
    "\n",
    "#TREND\n",
    "trend = np.dot(E[:,:3],xhat[:3])\n",
    "ax2.plot(dates,trend,'k-',lw=2)\n",
    "ax2.set_title('TREND',name='Calibri',size=14,weight='bold')\n",
    "ax2.set(ylim=[300,420],yticks=np.arange(300,431,20))\n",
    "ax2.yaxis.set_minor_locator(MultipleLocator(2))\n",
    "\n",
    "\n",
    "#RESIDUALS\n",
    "ax3.plot(dates,nhat,'k-',lw=2)\n",
    "ax3.set_title('RESIDUALS',name='Calibri',size=14,weight='bold')\n",
    "ax3.set(ylim=[-5,5],yticks=np.arange(-5,5.1))\n",
    "ax3.set_ylabel('PPM',name='Calibri',size=12,weight='bold')\n",
    "ax3.set_xlabel('Year',name='Calibri',size=12,weight='bold')\n",
    "ax3.yaxis.set_minor_locator(MultipleLocator(0.2))\n",
    "\n",
    "if E.shape[1] == 5:\n",
    "    seasonal = np.dot(E[:,3:],xhat[3:])\n",
    "    ax4.plot(dates,seasonal,'k-',lw=2)\n",
    "    ax4.set_title('SEASONAL',name='Calibri',size=14,weight='bold')\n",
    "    ax4.set(ylim=[-3,3],yticks=np.arange(-3,3.1,0.5))\n",
    "    ax4.set_xlabel('Year',name='Calibri',size=12,weight='bold')\n",
    "    ax4.yaxis.set_minor_locator(MultipleLocator(0.1))\n",
    "\n",
    "fig.autofmt_xdate()\n",
    "plt.savefig(F'CO2_Fit_NPARAMS_{len(params)}.png',dpi=300)\n",
    "plt.show(block=False)\n"
   ]
  },
  {
   "cell_type": "code",
   "execution_count": null,
   "metadata": {},
   "outputs": [],
   "source": []
  },
  {
   "cell_type": "code",
   "execution_count": null,
   "metadata": {},
   "outputs": [],
   "source": []
  }
 ],
 "metadata": {
  "kernelspec": {
   "display_name": "Python 3",
   "language": "python",
   "name": "python3"
  },
  "language_info": {
   "codemirror_mode": {
    "name": "ipython",
    "version": 3
   },
   "file_extension": ".py",
   "mimetype": "text/x-python",
   "name": "python",
   "nbconvert_exporter": "python",
   "pygments_lexer": "ipython3",
   "version": "3.7.4"
  }
 },
 "nbformat": 4,
 "nbformat_minor": 2
}
