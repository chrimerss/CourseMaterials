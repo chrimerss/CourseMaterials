{
 "cells": [
  {
   "cell_type": "markdown",
   "metadata": {},
   "source": [
    "# COMPOSITE ANALYSIS\n",
    "\n",
    "<div class=\"alert alert-block alert-success\" style=\"font-size:16px\">In this exercise, you will composite wintertime surface temperature anomalies across the Northern Hemisphere that are associated with the North Atlantic Oscillation (NAO), a meridional pressure dipole between Iceland and the Azores. You will choose composite criteria and then compute the composite difference in surface temperatures, along with significance testing.\n",
    "\n",
    "More information on the NAO can be found here:\n",
    "(1) https://en.wikipedia.org/wiki/North_Atlantic_oscillation\n",
    "(2) https://www.cpc.ncep.noaa.gov/products/precip/CWlink/pna/nao.shtml</div>"
   ]
  },
  {
   "cell_type": "markdown",
   "metadata": {},
   "source": [
    "<div style=\"font-size:16px\"><b>Make sure to follow the directions written in the document. <font color=green>Green</font> boxes contain important information and have <u>completed</u> code after them. <font color=gold>Yellow</font> boxes contain options that you need to select or make to continue on with the problem. <font color=blue>Blue</font> boxes contain instructions, and the cells after them are for YOU to complete in-class.</b></div>"
   ]
  },
  {
   "cell_type": "code",
   "execution_count": null,
   "metadata": {},
   "outputs": [],
   "source": [
    "#=========================================================================\n",
    "# Libraries to import.\n",
    "#=========================================================================\n",
    "import os,warnings\n",
    "import numpy as np\n",
    "import matplotlib.pyplot as plt\n",
    "import matplotlib.dates as mdates\n",
    "\n",
    "from netCDF4 import Dataset,num2date\n",
    "from datetime import datetime\n",
    "from dateutil.rrule import rrule, MONTHLY\n",
    "from scipy import stats\n",
    "from mpl_toolkits.basemap import Basemap,maskoceans,interp,shiftgrid"
   ]
  },
  {
   "cell_type": "markdown",
   "metadata": {},
   "source": [
    "# LOAD THE MONTHLY-MEAN NAO INDEX\n",
    "\n",
    "<div class=\"alert alert-block alert-success\" style=\"font-size:16px\">Load the time series and put the result into a dictionary called NAO.</div>"
   ]
  },
  {
   "cell_type": "code",
   "execution_count": null,
   "metadata": {},
   "outputs": [],
   "source": [
    "NAOFile = 'NAO_Monthly_Index_1950_Present.txt'\n",
    "\n",
    "NAOIndex = np.loadtxt(NAOFile,usecols=np.arange(1,13)) # These values are already standardized.\n",
    "NAOIndex = NAOIndex.ravel() # Make the index from a 2-D array into a single vector. "
   ]
  },
  {
   "cell_type": "markdown",
   "metadata": {},
   "source": [
    "<div class=\"alert alert-block alert-success\" style=\"font-size:16px\">Make arrays for date information for the NAO index.</div>"
   ]
  },
  {
   "cell_type": "code",
   "execution_count": null,
   "metadata": {},
   "outputs": [],
   "source": [
    "numValues = NAOIndex.size\n",
    "\n",
    "start_date = datetime(1950, 1, 1)\n",
    "NAODate = np.asarray(list(rrule(freq=MONTHLY, count=numValues, dtstart=start_date))) # Makes an array of monthly dates\n",
    "NAOMonth = np.asarray([d.month for d in NAODate]) # Get the month value for each date.\n",
    "NAOYear = np.asarray([d.year for d in NAODate]) # Get the year value for each date."
   ]
  },
  {
   "cell_type": "markdown",
   "metadata": {},
   "source": [
    "<div class=\"alert alert-block alert-success\" style=\"font-size:16px\">Make a plot of the index to make sure it looks \"good.\"</div>"
   ]
  },
  {
   "cell_type": "code",
   "execution_count": null,
   "metadata": {},
   "outputs": [],
   "source": [
    "fig = plt.figure(figsize=(12,12))\n",
    "ax = fig.add_subplot(111)\n",
    "ax.set_position([0.1,0.1,0.9,0.6])\n",
    "ax.plot(NAODate,NAOIndex,'r-',lw=2)\n",
    "ax.set_title('Monthly-Mean NAO Index',name='Arial',size=18,weight='bold')\n",
    "ax.set_xlabel('Year',name='Arial',size=16,weight='bold')\n",
    "ax.set_ylabel('Index - [std]',name='Arial',size=16,weight='bold')\n",
    "\n",
    "years = mdates.YearLocator(5)   # every year\n",
    "months = mdates.MonthLocator(2)  # every month\n",
    "years_fmt = mdates.DateFormatter('%Y')\n",
    "\n",
    "ax.xaxis.set_major_locator(years)\n",
    "ax.xaxis.set_major_formatter(years_fmt)\n",
    "ax.xaxis.set_minor_locator(months)\n",
    "\n",
    "for i in ax.get_xticklabels() + ax.get_yticklabels():\n",
    "    i.set_family('Arial')\n",
    "    i.set_size(14)\n",
    "    \n",
    "fig.autofmt_xdate()"
   ]
  },
  {
   "cell_type": "markdown",
   "metadata": {},
   "source": [
    "# LOAD THE MONTHLY-MEAN SURFACE TEMPERATURES\n",
    "<div class=\"alert alert-block alert-success\" style=\"font-size:16px\">Load these from the provided netCDF file.</div>"
   ]
  },
  {
   "cell_type": "code",
   "execution_count": null,
   "metadata": {},
   "outputs": [],
   "source": [
    "ncFile = 'surfT.mon.mean.nc'\n",
    "surfT = {}\n",
    "with Dataset(ncFile,'r') as nc: # Opens the netCDF file for reading.\n",
    "    lons = nc.variables['lon'][:]-360.\n",
    "    lats = nc.variables['lat'][:]\n",
    "    \n",
    "    ilat = np.where(lats>=10)[0] # Only load data for the Northern Hemisphere outside of tropics.\n",
    "    \n",
    "    lat,lon = np.meshgrid(lats[ilat],lons) # Meshgrid needed for plotting.\n",
    "    \n",
    "    # Get the time information for the file.\n",
    "    time = nc.variables['time'][:]\n",
    "    timeUnits = nc.variables['time'].units\n",
    "    \n",
    "    # Make dates for the surface temperature file.\n",
    "    sfcTDate = num2date(time,timeUnits,calendar='standard')\n",
    "    sfcTMonth = np.asarray([d.month for d in sfcTDate])\n",
    "    sfcYear = np.asarray([d.year for d in sfcTDate])\n",
    "    \n",
    "    # Extract the necessary data and its units.\n",
    "    sfcT = nc.variables['surfT'][:,ilat,:] #time x lat x lon\n",
    "    sfcTUnits = nc.variables['surfT'].units\n"
   ]
  },
  {
   "cell_type": "markdown",
   "metadata": {},
   "source": [
    "<div class=\"alert alert-block alert-success\" style=\"font-size:16px\">Get a sense of the data structure.</div>"
   ]
  },
  {
   "cell_type": "code",
   "execution_count": null,
   "metadata": {},
   "outputs": [],
   "source": [
    "print(sfcT.shape) # time x lat x lon\n",
    "print(sfcTDate[-50:]) # Print the last 50 dates in the file."
   ]
  },
  {
   "cell_type": "markdown",
   "metadata": {},
   "source": [
    "# LOAD THE MONTHLY-MEAN SURFACE AIR TEMPERATURE CLIMATOLOGY\n",
    "<div class=\"alert alert-block alert-success\" style=\"font-size:16px\">Data are dimensioned 12 (Jan-Dec) x lat x lon</div>"
   ]
  },
  {
   "cell_type": "code",
   "execution_count": null,
   "metadata": {},
   "outputs": [],
   "source": [
    "ncFile = 'surfT.mon.ltm.nc'\n",
    "with Dataset(ncFile,'r') as nc:\n",
    "    lats = nc.variables['lat'][:]\n",
    "    \n",
    "    ilat = np.where(lats>=10)[0] # Only load data for the Northern Hemisphere outside of tropics.\n",
    "    climo = nc.variables['surfT'][:,ilat,:] # Array for long-term mean.\n",
    "    \n",
    "print(climo.shape) # time x lat x lon"
   ]
  },
  {
   "cell_type": "markdown",
   "metadata": {},
   "source": [
    "# CALCULATE MONTHLY ANOMALIES\n",
    "<div class=\"alert alert-block alert-success\" style=\"font-size:16px\">\n",
    "e.g., Subtract the long-term January value (surfT['climo'][0,:,:]) from ALL January values in surfT['data'])</div>"
   ]
  },
  {
   "cell_type": "code",
   "execution_count": null,
   "metadata": {},
   "outputs": [],
   "source": [
    "ano = np.ones_like(sfcT)*np.nan\n",
    "for i in range(1,13):\n",
    "    x = np.where(sfcTMonth==i)[0] # Search for all cases when the month is i.\n",
    "    ano[x,:,:] = sfcT[x,:,:] - climo[i-1,:,:] # Subtract the long-term mean from ALL \n",
    "                                                                         #values of that particular month."
   ]
  },
  {
   "cell_type": "markdown",
   "metadata": {},
   "source": [
    "# SET THE CRITERIA FOR THE COMPOSITES AND FIND EVENTS\n",
    "<div class=\"alert alert-block alert-warning\" style=\"font-size:16px\"> Define positive NAO conditions to be when the index exceeds some value, and define negative NAO conditions to be when the index is less than a value. You can start with +1 and -1 for now, but go back later and change these to see how sensitive your results are to the values chosen. Note that they don't have to be \"symmetric\" (e.g., you can choose +2 and -1). Whatever you choose, ONLY CONSIDER VALUES FROM November through April from the NAO index (and hence temperature). Use np.where() to find the indices in the NAO index where is this true. </div>"
   ]
  },
  {
   "cell_type": "code",
   "execution_count": null,
   "metadata": {},
   "outputs": [],
   "source": [
    "posNAO = ?\n",
    "negNAO = ?\n",
    "\n",
    "print('Number of Positive NAO Months: %d'%len(posNAO))\n",
    "print('Number of Negative NAO Months: %d'%len(negNAO))"
   ]
  },
  {
   "cell_type": "markdown",
   "metadata": {},
   "source": [
    "<div class=\"alert alert-block alert-info\" style=\"font-size:16px\"> Find the corresponding dates for each composite type in the surface temperature array. You can use a loop OR look up the numpy method in1d(). </div>"
   ]
  },
  {
   "cell_type": "code",
   "execution_count": null,
   "metadata": {},
   "outputs": [],
   "source": [
    "posCompDates = ?\n",
    "negCompDates = ?"
   ]
  },
  {
   "cell_type": "markdown",
   "metadata": {},
   "source": [
    "# COMPOSITES AND SIGNIFICANCE TESTING\n",
    "<div class=\"alert alert-block alert-info\" style=\"font-size:16px\"> Use np.nanmean() to calculate the composite mean surface temperature ANOMALIES for positive and for negative NAO cases.</div>"
   ]
  },
  {
   "cell_type": "code",
   "execution_count": null,
   "metadata": {},
   "outputs": [],
   "source": [
    "posComp = ?\n",
    "negComp = ? "
   ]
  },
  {
   "cell_type": "markdown",
   "metadata": {},
   "source": [
    "<div class=\"alert alert-block alert-info\" style=\"font-size:16px\"> Calculate the composite DIFFERENCE (positive - negative)</div>"
   ]
  },
  {
   "cell_type": "code",
   "execution_count": null,
   "metadata": {},
   "outputs": [],
   "source": [
    "compDiff = ?"
   ]
  },
  {
   "cell_type": "markdown",
   "metadata": {},
   "source": [
    "<div class=\"alert alert-block alert-info\" style=\"font-size:16px\">Calculate the significance of your composite difference using the t-test (difference of means). This will be done grid point by grid point. See notes for the equations & definitions.</div>"
   ]
  },
  {
   "cell_type": "code",
   "execution_count": null,
   "metadata": {},
   "outputs": [],
   "source": [
    "n1 = ? # Number of positive NAO events\n",
    "n2 = ? # Number of negative NAO events\n",
    "dof = ? # Degrees of freedom\n",
    "\n",
    "s1 = ? # Sample standard deviation of temperature for positive NAO events.\n",
    "s2 = ? # Sample standard deviation of temperature for negative NAO events.\n",
    "sigma = ? # Pooled variance --> See notes.\n",
    "\n",
    "tStatistic = ? # See notes. Will be dimensioned lat x lon (i.e., a \"map\" of t-scores)\n",
    "\n",
    "# Returns the p-value (lat x lon) for a two-sided t-test corresponding to each t-score.\n",
    "pval = 2*stats.t.cdf(-abs(tStatistic),dof*np.ones(tStatistic.shape))\n"
   ]
  },
  {
   "cell_type": "markdown",
   "metadata": {},
   "source": [
    "# PLOT YOUR RESULTS\n",
    "<div class=\"alert alert-block alert-success\" style=\"font-size:16px\">Function to plot surface air temperatures and significance only over land.</div>"
   ]
  },
  {
   "cell_type": "code",
   "execution_count": null,
   "metadata": {},
   "outputs": [],
   "source": [
    "#=========================================================================\n",
    "# Function to plot surface air temperatures and significance only over land.\n",
    "#=========================================================================\n",
    "def LandOnly(field,lon,lat):\n",
    "    data,lon1 = shiftgrid(180.,field.T,lon[:,0]+360.,start=False)\n",
    "    data = data[::-1]\n",
    "    lat1 = lat[0,::-1]\n",
    "\n",
    "    lon2 = np.linspace(-180.,178.5,lon1.size*3)\n",
    "    lat2 = np.linspace(-90,90.,lat1.size*5)\n",
    "    lon2,lat2 = np.meshgrid(lon2,lat2)\n",
    "\n",
    "    data2 = interp(data,lon1,lat1,lon2,lat2,checkbounds=False,masked=False,order=1)\n",
    "    mdata = maskoceans(lon2,lat2,data2,resolution='c',grid=10,inlands=True)\n",
    "\n",
    "    return mdata,lon2,lat2\n"
   ]
  },
  {
   "cell_type": "markdown",
   "metadata": {},
   "source": [
    "<div class=\"alert alert-block alert-success\" style=\"font-size:16px\">Apply the LandOnly function to the composite difference and p-value arrays for plotting.</div>"
   ]
  },
  {
   "cell_type": "code",
   "execution_count": null,
   "metadata": {},
   "outputs": [],
   "source": [
    "landT,lon2,lat2 = LandOnly(compDiff.T,lon,lat)\n",
    "landPval = LandOnly(pval.T,lon,lat)[0]"
   ]
  },
  {
   "cell_type": "markdown",
   "metadata": {},
   "source": [
    "<div class=\"alert alert-block alert-warning\" style=\"font-size:16px\">Set a significance value (0.01, 0.05, or 0.1) that you wish to show on your plot.</div>"
   ]
  },
  {
   "cell_type": "code",
   "execution_count": null,
   "metadata": {},
   "outputs": [],
   "source": [
    "alpha = ?\n",
    "\n",
    "# Boolean variable that to plot stippling where significant over land \n",
    "# (i.e., where the condition is true).\n",
    "stipple = (landPval<=alpha) & (~landPval.mask) "
   ]
  },
  {
   "cell_type": "markdown",
   "metadata": {},
   "source": [
    "<div class=\"alert alert-block alert-info\" style=\"font-size:16px\">Make the plot.</div>"
   ]
  },
  {
   "cell_type": "code",
   "execution_count": null,
   "metadata": {},
   "outputs": [],
   "source": [
    "# Contour information for the colorbar. You may need to change this, depending on your composite criteria chosen.\n",
    "cmin = -3; cmax = 3.1; cint = 0.2; clevs = np.round(np.arange(cmin,cmax,cint),1)\n",
    "nlevs = len(clevs)-1\n",
    "\n",
    "# Feel free to change the actual colorbar to whatever you want. Make sure to use a diverging colorbar.\n",
    "cmap = plt.get_cmap(name='seismic',lut=nlevs) \n",
    "\n",
    "# Add an appropriate title.\n",
    "titleText = ? \n",
    "\n",
    "\n",
    "plt.figure()\n",
    "\n",
    "# Set up the projection and map.\n",
    "m = Basemap(projection='npstere',lon_0=-100.,boundinglat=10.,round=True)\n",
    "x2,y2 = m(lon2,lat2)\n",
    "m.drawcoastlines(linewidth=3)\n",
    "m.drawmapboundary(linewidth=2)\n",
    "\n",
    "# Contour compDiff. You may need to transpose the array (compDiff.T) for plotting.\n",
    "cs = m.contourf(?)\n",
    "cmap._lut[nlevs//2-1:nlevs//2+1] = [1.,1.,1.,1.] # Puts white in the middle (i.e., 0 value)\n",
    "\n",
    "# Adds stippling over statistically significant composite difference values.\n",
    "m.plot(x2[stipple][::3],y2[stipple][::3],'o',color='Gold',markersize=1.5) #\n",
    "\n",
    "plt.title(titleText,name='Arial',weight='bold',size=20)\n",
    "\n",
    "cbar = m.colorbar(cs,size='4%')\n",
    "\n",
    "# Set the proper units for the composite field.\n",
    "cbar.ax.set_ylabel(?) "
   ]
  },
  {
   "cell_type": "code",
   "execution_count": null,
   "metadata": {},
   "outputs": [],
   "source": []
  }
 ],
 "metadata": {
  "kernelspec": {
   "display_name": "Python 3",
   "language": "python",
   "name": "python3"
  },
  "language_info": {
   "codemirror_mode": {
    "name": "ipython",
    "version": 3
   },
   "file_extension": ".py",
   "mimetype": "text/x-python",
   "name": "python",
   "nbconvert_exporter": "python",
   "pygments_lexer": "ipython3",
   "version": "3.7.4"
  }
 },
 "nbformat": 4,
 "nbformat_minor": 2
}
