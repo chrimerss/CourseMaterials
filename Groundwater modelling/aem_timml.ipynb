{
 "cells": [
  {
   "cell_type": "markdown",
   "metadata": {},
   "source": [
    "<figure>\n",
    "  <IMG SRC=\"https://raw.githubusercontent.com/mbakker7/exploratory_computing_with_python/master/tudelft_logo.png\" WIDTH=250 ALIGN=\"right\">\n",
    "</figure>\n",
    "\n",
    "# Steady multi-layer analytic element modeling with TimML\n",
    "*Mark Bakker*"
   ]
  },
  {
   "cell_type": "markdown",
   "metadata": {},
   "source": [
    "### Exercise 1. Wells in uniform flow\n",
    "Consider a confined aquifer with a base at $z=-20$, a top at $z=0$, and a hydraulic conductivity of $k=20$ m/d. At first, flow in the aquifer can be considered as uniform in the Eastern direction. The head drop is 2 m per 1000 m. The head is fixed to $h=20$ m at $x=1000$ m, $y=0$ m.\n",
    "\n",
    "#### Exercise 1a\n",
    "Build a TimML model and compute the head at $x=0$, $y=0$. "
   ]
  },
  {
   "cell_type": "code",
   "execution_count": null,
   "metadata": {},
   "outputs": [],
   "source": []
  },
  {
   "cell_type": "markdown",
   "metadata": {},
   "source": [
    "#### Exercise 1b\n",
    "Add a well at $(x,y)=(0,0)$. The head at the well is 18 m. Compute and report the discharge of the well and make a contour plot of the head with steps of 0.2 m in the window from $(x,y)=(-1000, -1000)$ to $(x,y)=(1000,1000)$. Label the contours."
   ]
  },
  {
   "cell_type": "code",
   "execution_count": null,
   "metadata": {},
   "outputs": [],
   "source": []
  },
  {
   "cell_type": "markdown",
   "metadata": {},
   "source": [
    "#### Exercise 1c. \n",
    "The total demand for water is 3000 m$^3$/d. Use three wells along the line $x=0$. The three head at each of the three wells is 18 m and the total discharge must be at least 3000 m$^3$/d and not more than 3500 m$^3$/d. Report and print to the screen the total discharge of the three wells combined. Make a contour plot of the head and add the 10-year capture zone of each well. The porosity of the aquifer is 0.35. "
   ]
  },
  {
   "cell_type": "code",
   "execution_count": null,
   "metadata": {},
   "outputs": [],
   "source": []
  },
  {
   "cell_type": "markdown",
   "metadata": {},
   "source": [
    "#### Exercise 1d. \n",
    "It turns out that below the aquifer are a clay layer and another aquifer that were neglected so far. The clay layer is 2 m thick and has a hydraulic conductivity of 0.001 m/d. The aquifer below the clay layer is 20 m thick and has a hydraulic conductivity of 20 m/d. Using your design of the previous exercise, what is the combined discharge of the three wells when the aquifer below is taken into account. Does the total discharge go up or down?"
   ]
  },
  {
   "cell_type": "code",
   "execution_count": null,
   "metadata": {},
   "outputs": [],
   "source": []
  },
  {
   "cell_type": "markdown",
   "metadata": {},
   "source": [
    "### Exercise 2. A well in a semi-confined aquifer\n",
    "Consider a semi-confined aquifer. The aquifer is 20 m thick and has a hydraulic conductivity of 20 m/d. The semi-confining clay layer has a resistance of $c=1000$ d. The head above the clay layer is fixed to $h=0$ m. A well is located at $(x,y)=(0,0)$, has a discharge of 1000 m$^3$/d, and a radius of 0.3 m. \n",
    "\n",
    "#### Exercise 2a. \n",
    "Make a TimML model. Compute the leakage factor manually and make sure the leakage factor computed by TimML is the same. Make a plot for head vs. distance from the well for at least $3\\lambda$."
   ]
  },
  {
   "cell_type": "code",
   "execution_count": null,
   "metadata": {},
   "outputs": [],
   "source": []
  },
  {
   "cell_type": "markdown",
   "metadata": {},
   "source": [
    "#### Exercise 2b. \n",
    "The value of the hydraulic conductivity is uncertain and could be anywhere between 10 m/d and 40 m/d. Make a plot with the head at the well along the vertical axis and the hydraulic conductivity of the aquifer along the horizontal axis. Why is the relationship not linear?"
   ]
  },
  {
   "cell_type": "code",
   "execution_count": null,
   "metadata": {},
   "outputs": [],
   "source": []
  },
  {
   "cell_type": "markdown",
   "metadata": {},
   "source": [
    "#### Exercise 2c.\n",
    "Divide the aquifer up in 20 layers of 1 m thickness. Use a vertical anisotropy of 0.1. Make a vertical contour plot of the head for a cross-section through the well when the well is screened in the lower 5 layers. "
   ]
  },
  {
   "cell_type": "code",
   "execution_count": null,
   "metadata": {},
   "outputs": [],
   "source": []
  },
  {
   "cell_type": "markdown",
   "metadata": {},
   "source": [
    "#### Exercise 2d\n",
    "Compute the head in the well when the well is screened in all 20 layers, in the bottom 19 layers, in the bottom 18 layers, ..., all the way to the bottom 2 layers, and the bottom layer. Plot the head in the well along the vertical axis vs. the elevation of the top of the well screen along the horizontal axis. How short must the well screen be before the partial penetration becomes significant?"
   ]
  },
  {
   "cell_type": "code",
   "execution_count": null,
   "metadata": {},
   "outputs": [],
   "source": []
  },
  {
   "cell_type": "code",
   "execution_count": null,
   "metadata": {},
   "outputs": [],
   "source": [
    "hwell = np.zeros(20)\n",
    "for i in range(20):\n",
    "    ml = Model3D(kaq=20, z=np.linspace(20, 0, 21), topboundary='semi', topres=1000, topthick=2, hstar=0, kzoverkh=0.1)\n",
    "    w = Well(ml, Qw=1000, layers=np.arange(i, 20), rw=0.3)\n",
    "    ml.solve(silent=True)\n",
    "    hwell[i] = w.headinside()[-1]\n",
    "plt.figure()\n",
    "plt.plot(-np.arange(20), hwell)\n",
    "plt.xlabel('top of well screen (m)')"
   ]
  },
  {
   "cell_type": "markdown",
   "metadata": {},
   "source": [
    "### Exercise 3. Larger model"
   ]
  },
  {
   "cell_type": "markdown",
   "metadata": {},
   "source": [
    "Consider two river segments and two wells as shown below. All distances are given in meters. The river level is given at the beginning and end of each river segment. The transmissivity of the aquifer may be treated as constant and equal to $T=600$ m$^2$/day. The areal infiltration rate on the aquifer is 1 mm/d. The discharge of well 1 is 2000 m$^3$/d and the discharge of well 2 is 3000 m$^3$/d. The radius of both wells is 0.3 m.\n",
    "\n",
    "![](aem_layout.png)\n",
    "\n",
    "#### Exercise 3a\n",
    "Create a model for steady flow in the aquifer. Specify a reference point (`Constant`) outside the area of interest such that the flow towards the river segments from outside the model area looks similar to the flow towards the river from inside the model area. Produce a contour plot of the head and label the contours. Compute and report the drawdowns at the two wells. "
   ]
  },
  {
   "cell_type": "code",
   "execution_count": null,
   "metadata": {},
   "outputs": [],
   "source": []
  },
  {
   "cell_type": "markdown",
   "metadata": {},
   "source": [
    "#### Exercise 3b\n",
    "Three head measurements are given in the table below (for the situation with the wells pumping). Determine and report the optimal value of the transmissivity of the aquifer using a least squares approach. Use a function from the `scipy.optimize` package.\n",
    "\n",
    "| x (m) | y (m) | h (m) |\n",
    "|------:|------:|------:|\n",
    "| 7500  | 4000  | 176.82|\n",
    "|15000  | 3000  | 163.02|\n",
    "|10000  | 6000  | 175.38|"
   ]
  },
  {
   "cell_type": "code",
   "execution_count": null,
   "metadata": {},
   "outputs": [],
   "source": []
  }
 ],
 "metadata": {
  "kernelspec": {
   "display_name": "Python 3",
   "language": "python",
   "name": "python3"
  },
  "language_info": {
   "codemirror_mode": {
    "name": "ipython",
    "version": 3
   },
   "file_extension": ".py",
   "mimetype": "text/x-python",
   "name": "python",
   "nbconvert_exporter": "python",
   "pygments_lexer": "ipython3",
   "version": "3.6.5"
  }
 },
 "nbformat": 4,
 "nbformat_minor": 2
}
