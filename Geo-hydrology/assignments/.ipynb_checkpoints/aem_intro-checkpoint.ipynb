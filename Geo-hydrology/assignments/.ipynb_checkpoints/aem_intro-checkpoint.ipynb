{
 "cells": [
  {
   "cell_type": "markdown",
   "metadata": {},
   "source": [
    "<figure>\n",
    "  <IMG SRC=\"https://raw.githubusercontent.com/mbakker7/exploratory_computing_with_python/master/tudelft_logo.png\" WIDTH=250 ALIGN=\"right\">\n",
    "</figure>\n",
    "\n",
    "# Stepwise Development of a Simple Analytic Element Model in Python\n",
    "*Mark Bakker*\n",
    "\n",
    "---\n",
    "\n",
    "## AEM Model 1, a few wells\n",
    "\n",
    "The head for a steady-state well at $(x,y)=(x_w,y_w)$ with discharge $Q$ in a confined aquifer with transmissivity $T$ may be written as:\n",
    "\n",
    "$$h= \\frac{Q}{2\\pi T}\\ln \\left( r \\right)$$\n",
    "\n",
    "where $r = \\sqrt{(x − x_w)^2 + (y − y_w)^2}$ is the radial distance from the well. Before writing the first Python function, tell Jupyter to place the `matplotlib` figures inside the notebook, and import `numpy` and `matplotlib`."
   ]
  },
  {
   "cell_type": "code",
   "execution_count": 2,
   "metadata": {
    "collapsed": true
   },
   "outputs": [],
   "source": [
    "%matplotlib notebook\n",
    "import numpy as np\n",
    "import matplotlib.pyplot as plt\n",
    "#plt.style.use('seaborn-talk')\n",
    "#plt.rcParams['figure.figsize'] = 0.8 * np.array([6.4, 4.8])"
   ]
  },
  {
   "cell_type": "markdown",
   "metadata": {},
   "source": [
    "A Python function to compute the head for a well is"
   ]
  },
  {
   "cell_type": "code",
   "execution_count": null,
   "metadata": {
    "collapsed": true
   },
   "outputs": [],
   "source": [
    "def head(x, y, xw=0, yw=0, Q=100, T=100):\n",
    "    r = np.sqrt((x - xw) ** 2 + (y - yw) ** 2)\n",
    "    return Q / (2 * np.pi * T) * np.log(r)"
   ]
  },
  {
   "cell_type": "markdown",
   "metadata": {},
   "source": [
    "A contour plot may be created by first creating an $x,y$ grid with the `np.meshgrid` function, then evaluating the head at each grid point (in one function call), and finally using a contouring routine to draw contours through the grid values."
   ]
  },
  {
   "cell_type": "code",
   "execution_count": null,
   "metadata": {
    "collapsed": true
   },
   "outputs": [],
   "source": [
    "x, y = np.meshgrid(np.linspace(-100, 100, 50), np.linspace(-100, 100, 50))\n",
    "h = head(x, y)\n",
    "plt.figure()\n",
    "plt.contour(x, y, h)\n",
    "plt.axis('scaled');"
   ]
  },
  {
   "cell_type": "markdown",
   "metadata": {},
   "source": [
    "Forty labeled contours may be created as follows"
   ]
  },
  {
   "cell_type": "code",
   "execution_count": null,
   "metadata": {
    "collapsed": true
   },
   "outputs": [],
   "source": [
    "plt.figure()\n",
    "cs = plt.contour(x, y, h, 40)\n",
    "plt.clabel(cs, fmt='%1.2f')\n",
    "plt.axis('scaled');"
   ]
  },
  {
   "cell_type": "markdown",
   "metadata": {},
   "source": [
    "where `%1.2f` stands for a floating point number with two decimals."
   ]
  },
  {
   "cell_type": "markdown",
   "metadata": {},
   "source": [
    "The values of the contours may be specified (this is what you would commonly do). First determine the minimum and the maximum values of the head in the current window"
   ]
  },
  {
   "cell_type": "code",
   "execution_count": null,
   "metadata": {
    "collapsed": true
   },
   "outputs": [],
   "source": [
    "print('min, max:', h.min(), h.max())"
   ]
  },
  {
   "cell_type": "markdown",
   "metadata": {},
   "source": [
    "Let's now draw contours from 0.2 up to 0.8 with steps of 0.05"
   ]
  },
  {
   "cell_type": "code",
   "execution_count": null,
   "metadata": {
    "collapsed": true
   },
   "outputs": [],
   "source": [
    "plt.figure()\n",
    "cs = plt.contour(x, y, h, np.arange(0.2, 0.8, 0.05))\n",
    "plt.clabel(cs, fmt='%1.2f')\n",
    "plt.axis('scaled');"
   ]
  },
  {
   "cell_type": "markdown",
   "metadata": {},
   "source": [
    "### Exercise 1\n",
    "\n",
    "Create a contour plot for two wells. Well 1 is located at (−50, 0) and is an injection well with a\n",
    "discharge Q = −100 m$^3$/d. Well 2 is located at (50, 0) and has a pumping rate Q = 100 m$^3$/d. The aquifer has a transmissivity $T=200$ m$^2$/d."
   ]
  },
  {
   "cell_type": "code",
   "execution_count": null,
   "metadata": {
    "collapsed": true
   },
   "outputs": [],
   "source": []
  },
  {
   "cell_type": "markdown",
   "metadata": {},
   "source": [
    "## AEM Model 2, a Well class\n",
    "\n",
    "A `Well` class is created so that every well is an instance of the `Well` class. The class consists of a constructor, which has the default (and somewhat cryptic) name `__init__`, and a function to compute the head. The location, discharge and tranmissivity are stored for every well as\n",
    "attributes by the constructor."
   ]
  },
  {
   "cell_type": "code",
   "execution_count": null,
   "metadata": {
    "collapsed": true
   },
   "outputs": [],
   "source": [
    "class Well:\n",
    "    def __init__(self, xw=0, yw=0, Q=100, T=100):\n",
    "        self.xw, self.yw = xw, yw\n",
    "        self.Q = Q\n",
    "        self.T = T\n",
    "    def head(self, x, y):\n",
    "        r = np.sqrt((x - self.xw) ** 2 + (y - self.yw) ** 2)\n",
    "        return self.Q / (2 * np.pi * self.T) * np.log(r)"
   ]
  },
  {
   "cell_type": "markdown",
   "metadata": {},
   "source": [
    "The model with one well of Model 1 may now be recreated by using the following commands:"
   ]
  },
  {
   "cell_type": "code",
   "execution_count": null,
   "metadata": {
    "collapsed": true
   },
   "outputs": [],
   "source": [
    "x, y = np.meshgrid(np.linspace(-100, 100, 50), np.linspace(-100, 100, 50))\n",
    "w1 = Well(xw=0, yw=0, Q=100)\n",
    "h = w1.head(x, y)\n",
    "plt.figure()\n",
    "cs = plt.contour(x, y, h, 40)\n",
    "plt.clabel(cs, fmt='%1.2f')\n",
    "plt.axis('scaled');"
   ]
  },
  {
   "cell_type": "markdown",
   "metadata": {},
   "source": [
    "Note that \n",
    "\n",
    "`h = w1.head(x, y)` \n",
    "\n",
    "is shorthand for \n",
    "\n",
    "`h = Well.head(w1, x, y)`. "
   ]
  },
  {
   "cell_type": "markdown",
   "metadata": {},
   "source": [
    "### Exercise 2\n",
    "\n",
    "Create a contour plot for two wells. Well 1 is located at (−50, 0) and is an injection well with a\n",
    "discharge Q = −100 m$^3$/d. Well 2 is located at (50, 0) and has a pumping rate Q = 100 m$^3$/d. The aquifer has a transmissivity $T=200$ m$^2$/d."
   ]
  },
  {
   "cell_type": "code",
   "execution_count": null,
   "metadata": {
    "collapsed": true
   },
   "outputs": [],
   "source": []
  },
  {
   "cell_type": "markdown",
   "metadata": {},
   "source": [
    "## AEM Model 3, a Model class\n",
    "\n",
    "Introduction of a `Well` class made computation of the head caused by multiple wells more convenient,\n",
    "but we still have to keep track of all the wells in the model and we need to enter the (same) transmissivity for\n",
    "every well separately. It makes more sense to gather all wells and define the transmissivity within one `Model` class, so that every model is an instance of the `Model` class. The `Model` class keeps track of a list with all the wells. \n",
    "\n",
    "Computations are formulated in terms of the discharge potential $ \\Phi = Th$, so that a well\n",
    "doesn’t need to know anything about the transmissivity of the aquifer. The potential for a well is:\n",
    "\n",
    "$$ \\Phi = \\frac{Q}{2\\pi}\\ln \\left( r \\right)$$\n",
    "\n",
    "The head is computed by the model by superimposing the potentials of all wells, and converting the final\n",
    "potential back to a head as $h = \\Phi / T$.\n",
    "\n",
    "The `Well` class is modified so that it's first argument is the name of the model to which the well is added. Inside the constructor of the `Well` class, the element is added to the `elementlist` of the `Model`."
   ]
  },
  {
   "cell_type": "code",
   "execution_count": null,
   "metadata": {
    "collapsed": true
   },
   "outputs": [],
   "source": [
    "class Model:\n",
    "    def __init__(self, T=100):\n",
    "        self.T = T\n",
    "        self.elementlist = []\n",
    "    def head(self, x, y):\n",
    "        rv = 0.0\n",
    "        for e in self.elementlist:\n",
    "            rv += e.potential(x, y)\n",
    "        return rv / self.T\n",
    "\n",
    "class Well:\n",
    "    def __init__(self, ml, xw=0, yw=0, Q=100):\n",
    "        self.xw, self.yw = xw, yw\n",
    "        self.Q = Q\n",
    "        ml.elementlist.append(self)\n",
    "    def potential(self, x, y):\n",
    "        r = np.sqrt((x - self.xw)**2 + (y - self.yw)**2)\n",
    "        return self.Q / (2 * np.pi) * np.log(r)"
   ]
  },
  {
   "cell_type": "markdown",
   "metadata": {},
   "source": [
    "The model with one well now becomes"
   ]
  },
  {
   "cell_type": "code",
   "execution_count": null,
   "metadata": {
    "collapsed": true
   },
   "outputs": [],
   "source": [
    "x, y = np.meshgrid(np.linspace(-100, 100, 50), np.linspace(-100, 100, 50))\n",
    "ml = Model(T=100)\n",
    "w1 = Well(ml, xw=0, yw=0, Q=100)\n",
    "h = ml.head(x, y)\n",
    "plt.figure()\n",
    "cs = plt.contour(x, y, h, 40)\n",
    "plt.clabel(cs, fmt='%1.2f')\n",
    "plt.axis('scaled');"
   ]
  },
  {
   "cell_type": "markdown",
   "metadata": {},
   "source": [
    "### Exercise 3\n",
    "\n",
    "Create a contour plot with 10 wells randomly spaced between $(x, y) = (−100, −100)$ and $(x, y) =\n",
    "(100, 100)$ with a random discharge between $Q=-100$ m$^3$/d and $Q=100$ m$^3$/d. The aquifer transmissivity is $T=100$ m$^2$/d. Use the `np.random.randint` function included in `numpy` to generate random numbers. Plot a red dot for each well."
   ]
  },
  {
   "cell_type": "code",
   "execution_count": null,
   "metadata": {
    "collapsed": true
   },
   "outputs": [],
   "source": []
  },
  {
   "cell_type": "markdown",
   "metadata": {},
   "source": [
    "### Exercise 4\n",
    "\n",
    "Add a uniform flow class that takes as input the uniform flow $Q_{x0}$ in the $x$-direction and the uniform flow $Q_{y0}$ in the $y$-direction. The potential for uniform flow is \n",
    "\n",
    "$$\\Phi = -Q_{x0}x -Q_{y0}y$$\n",
    "\n",
    "Make a contour plot for uniform flow in the North direction in an aquifer with $T=100$ m$^2$/d and a head drop of 2 m every 1000 m. Make sure that the head $h(x=0,y=0)=0$ and $h(x=0,y=1000)=-2$ m.\n",
    "\n",
    "Next, add a well at the origin with a discharge $Q=200$ m$^3$/d and make a contour plot for a window $(-1000, -1000)$ to $(1000, 1000)$. "
   ]
  },
  {
   "cell_type": "code",
   "execution_count": null,
   "metadata": {
    "collapsed": true
   },
   "outputs": [],
   "source": []
  },
  {
   "cell_type": "code",
   "execution_count": null,
   "metadata": {
    "collapsed": true
   },
   "outputs": [],
   "source": []
  },
  {
   "cell_type": "code",
   "execution_count": null,
   "metadata": {
    "collapsed": true
   },
   "outputs": [],
   "source": []
  },
  {
   "cell_type": "markdown",
   "metadata": {
    "slideshow": {
     "slide_type": "slide"
    }
   },
   "source": [
    "## AEM Model 4, Head specified wells\n",
    "\n",
    "The next step is to add wells where we specify the head at the well instead of the discharge, and\n",
    "compute what discharge is needed to achieve that head. The discharges of all head-specified wells need to be\n",
    "solved simultaneously, as pumping at one well effects the head at another well and vice versa. Consider, for\n",
    "example, two wells with desired heads $h_1$ and $h_2$ but unknown discharges $Q_1$ and $Q_2$; the radii of the two\n",
    "wells are $R_1$ and $R_2$, respectively. The potential in the aquifer may be computed as\n",
    "\n",
    "$$ \\Phi (x,y) = Th(x,y) = \\frac{Q_1}{2\\pi}\\ln\\left( \\sqrt{(x-x_1)^2+(y-y_1)^2}\\right) + \\frac{Q_2}{2\\pi}\\ln\\left( \\sqrt{(x-x_2)^2+(y-y_2)^2}\\right) $$\n",
    "\n",
    "The unknown discharges are computed from a system of two linear equations which are obtained by requiring\n",
    "that the heads are $h_1$ and $h_2$ at wells 1 and 2, respectively (and thus the potentials need to be $ \\Phi_1 = Th_1$\n",
    "and $\\Phi_2 = Th_2$). The head is computed at the radius of each well:\n",
    "\n",
    "$$ \\frac{Q_1}{2\\pi} \\ln ( R_1 ) + \\frac{Q_2}{2\\pi}\\ln\\sqrt{(x_1-x_2)+(y_1-y_2)} = \\Phi_1$$\n",
    "\n",
    "$$ \\frac{Q_1}{2\\pi} \\ln \\sqrt{(x_2-x_1)+(y_2-y_1)} + \\frac{Q_2}{2\\pi} \\ln (R_2) = \\Phi_2$$\n",
    "\n",
    "This system of equations may be written in matrix form as\n",
    "\n",
    "$$ \\begin{pmatrix}\n",
    "\\frac{1}{2\\pi}\\ln(R_1) & \\frac{1}{2\\pi} \\ln \\sqrt{(x_1-x_2)+(y_1-y_2)} \\\\\n",
    "\\frac{1}{2\\pi} \\ln \\sqrt{(x_2-x_1)+(y_2-y_1)} & \\frac{1}{2\\pi}\\ln(R_2)\n",
    "\\end{pmatrix}\n",
    "\\begin{pmatrix}\n",
    "Q_1 \\\\\n",
    "Q_2\n",
    "\\end{pmatrix}\n",
    "=\n",
    "\\begin{pmatrix}\n",
    "\\Phi_1  \\\\\n",
    "\\Phi_2\n",
    "\\end{pmatrix} $$\n",
    "\n",
    "For an aquifer with $N$ head-specified wells, a system of $N$ linear equations in $N$ unknown discharges needs\n",
    "to be solved."
   ]
  },
  {
   "cell_type": "markdown",
   "metadata": {
    "slideshow": {
     "slide_type": "slide"
    }
   },
   "source": [
    "The analytic element program is modified to incorporate head-specified wells and to compute a solution. The `Model` class is modified first. The `Model` class receives a `solve` method that loops through all elements in the `elementlist`. When an element has a unknown discharge, it calls the `equation` method of the element. The `equation` method needs to return one equation and a right-hand-side for that equation. The `solve` method stores all the equations in a matrix (one row at a time) and all the right-hand-sides in one array. Once the matrix and right-hand-side are filled, the system of equations is solved and the computed discharges are stored as the discharges of all the elements."
   ]
  },
  {
   "cell_type": "code",
   "execution_count": 1,
   "metadata": {
    "collapsed": true,
    "slideshow": {
     "slide_type": "slide"
    }
   },
   "outputs": [],
   "source": [
    "class Model:\n",
    "    def __init__(self, T=100):\n",
    "        self.T = T\n",
    "        self.elementlist = []\n",
    "    def head(self, x, y):\n",
    "        # short version of summation\n",
    "        return sum([e.potential(x, y) for e in self.elementlist]) / self.T\n",
    "    def solve(self):\n",
    "        self.Nunknowns = sum([e.Nunknowns for e in self.elementlist])\n",
    "        matrix = np.zeros((self.Nunknowns, self.Nunknowns))\n",
    "        rhs = np.zeros(self.Nunknowns)\n",
    "        irow = 0\n",
    "        for e in self.elementlist:\n",
    "            if e.Nunknowns > 0:\n",
    "                row, p = e.equation()\n",
    "                matrix[irow] = row\n",
    "                rhs[irow] = p\n",
    "                irow += 1\n",
    "        Qsol = np.linalg.solve(matrix, rhs)\n",
    "        irow = 0\n",
    "        for e in self.elementlist:\n",
    "            if e.Nunknowns > 0:\n",
    "                e.Q = Qsol[irow]\n",
    "                irow = irow + 1"
   ]
  },
  {
   "cell_type": "markdown",
   "metadata": {
    "slideshow": {
     "slide_type": "slide"
    }
   },
   "source": [
    "The `Well` class is modified such that it has a potential influence function called `potinf`, which returns the potential for a unit discharge. The potential function then reduces to the\n",
    "`potinf` function multiplied with the discharge of the well. The `Well` class also sets its numbers of unknowns to zero (the discharge is specified) and stores the model to which it is added. "
   ]
  },
  {
   "cell_type": "code",
   "execution_count": 3,
   "metadata": {
    "collapsed": true
   },
   "outputs": [],
   "source": [
    "class Well:\n",
    "    def __init__(self, ml, xw=0, yw=0, Q=100):\n",
    "        self.xw, self.yw = xw, yw\n",
    "        self.Q = Q\n",
    "        self.model = ml\n",
    "        self.Nunknowns = 0\n",
    "        self.model.elementlist.append(self)\n",
    "    def potinf(self, x, y):\n",
    "        r = np.sqrt((x - self.xw) ** 2 + (y - self.yw) ** 2)\n",
    "        return 1.0 / (2 * np.pi) * np.log(r)\n",
    "    def potential(self, x, y):\n",
    "        return self.Q * self.potinf(x, y)"
   ]
  },
  {
   "cell_type": "markdown",
   "metadata": {
    "slideshow": {
     "slide_type": "slide"
    }
   },
   "source": [
    "The new `HeadWell` class inherits all attributes and functions from the `Well` class. Three new attributes are added: the `xc` and `yc` locations where the head is specified (equal to $x_w+r_w$ and $y_w$, respectiely), and the potential at the well (the specified head multiplied with the transmissivity of the model). The number of unknowns is set to 1. A new `equation` method is defined. The `equation` method loops through all the elements of the model and builds one equation (one row) of the system of equations. The right-hand-side of the equation is initially the specified potential at the well. If an element has an unknown, it evaluates that element's `potinf` function at the well (point `xc`,`yc`) and stores that as the next value in the row of the matrix. If an element does not have an unknown, it evalutates that elements's `potential` function and subtracts it from the right-hand-side. Once it has looped through all elements, it returns the equation and right-hand-side."
   ]
  },
  {
   "cell_type": "code",
   "execution_count": 4,
   "metadata": {
    "collapsed": true,
    "slideshow": {
     "slide_type": "slide"
    }
   },
   "outputs": [],
   "source": [
    "class HeadWell(Well):\n",
    "    def __init__(self, ml, xw=0, yw=0, h=1, rw=0.3):\n",
    "        Well.__init__(self, ml, xw, yw, 0.0)\n",
    "        self.xc = self.xw + rw\n",
    "        self.yc = self.yw\n",
    "        self.pot = h * self.model.T\n",
    "        self.Nunknowns = 1\n",
    "    def equation(self):\n",
    "        row = np.zeros(self.model.Nunknowns)\n",
    "        rhs = self.pot\n",
    "        icol = 0\n",
    "        for e in self.model.elementlist:\n",
    "            if e.Nunknowns > 0:\n",
    "                row[icol] = e.potinf(self.xc, self.yc)\n",
    "                icol += 1\n",
    "            else:\n",
    "                rhs += -e.potential(self.xc, self.yc)\n",
    "        return row, rhs"
   ]
  },
  {
   "cell_type": "markdown",
   "metadata": {
    "slideshow": {
     "slide_type": "slide"
    }
   },
   "source": [
    "### Exercise 5\n",
    "\n",
    "Consider an aquifer with a transmissivity $T=100$ m$^2$/d. The aquifer includes one well with a\n",
    "specified discharge and two wells with a specified head (Table 1). Build a\n",
    "model for the wells, solve the model, and make a contour plot. Verify that the head at the two head-specified\n",
    "wells is indeed equal to the specified heads at the radius of the well $(x_w+r_w,y_w)$. What are the computed discharges of the two head-specified\n",
    "wells?\n",
    "\n",
    "#### Table 1: Data for head-specified wells example\n",
    "| Well | $Q$ or $h$     | $x_w$ | $y_w$ | $r_w$ |\n",
    "|------|---------------:|------:|------:|------:|\n",
    "|  0   | $Q=100$        | 0     | -50   | 0.2   |\n",
    "|  1   | $h=2$          | 50    |  50   | 0.2   |\n",
    "|  2   | $h=2$          |-50    |  50   | 0.2   |"
   ]
  },
  {
   "cell_type": "code",
   "execution_count": 6,
   "metadata": {},
   "outputs": [
    {
     "data": {
      "application/javascript": [
       "/* Put everything inside the global mpl namespace */\n",
       "window.mpl = {};\n",
       "\n",
       "\n",
       "mpl.get_websocket_type = function() {\n",
       "    if (typeof(WebSocket) !== 'undefined') {\n",
       "        return WebSocket;\n",
       "    } else if (typeof(MozWebSocket) !== 'undefined') {\n",
       "        return MozWebSocket;\n",
       "    } else {\n",
       "        alert('Your browser does not have WebSocket support.' +\n",
       "              'Please try Chrome, Safari or Firefox ≥ 6. ' +\n",
       "              'Firefox 4 and 5 are also supported but you ' +\n",
       "              'have to enable WebSockets in about:config.');\n",
       "    };\n",
       "}\n",
       "\n",
       "mpl.figure = function(figure_id, websocket, ondownload, parent_element) {\n",
       "    this.id = figure_id;\n",
       "\n",
       "    this.ws = websocket;\n",
       "\n",
       "    this.supports_binary = (this.ws.binaryType != undefined);\n",
       "\n",
       "    if (!this.supports_binary) {\n",
       "        var warnings = document.getElementById(\"mpl-warnings\");\n",
       "        if (warnings) {\n",
       "            warnings.style.display = 'block';\n",
       "            warnings.textContent = (\n",
       "                \"This browser does not support binary websocket messages. \" +\n",
       "                    \"Performance may be slow.\");\n",
       "        }\n",
       "    }\n",
       "\n",
       "    this.imageObj = new Image();\n",
       "\n",
       "    this.context = undefined;\n",
       "    this.message = undefined;\n",
       "    this.canvas = undefined;\n",
       "    this.rubberband_canvas = undefined;\n",
       "    this.rubberband_context = undefined;\n",
       "    this.format_dropdown = undefined;\n",
       "\n",
       "    this.image_mode = 'full';\n",
       "\n",
       "    this.root = $('<div/>');\n",
       "    this._root_extra_style(this.root)\n",
       "    this.root.attr('style', 'display: inline-block');\n",
       "\n",
       "    $(parent_element).append(this.root);\n",
       "\n",
       "    this._init_header(this);\n",
       "    this._init_canvas(this);\n",
       "    this._init_toolbar(this);\n",
       "\n",
       "    var fig = this;\n",
       "\n",
       "    this.waiting = false;\n",
       "\n",
       "    this.ws.onopen =  function () {\n",
       "            fig.send_message(\"supports_binary\", {value: fig.supports_binary});\n",
       "            fig.send_message(\"send_image_mode\", {});\n",
       "            if (mpl.ratio != 1) {\n",
       "                fig.send_message(\"set_dpi_ratio\", {'dpi_ratio': mpl.ratio});\n",
       "            }\n",
       "            fig.send_message(\"refresh\", {});\n",
       "        }\n",
       "\n",
       "    this.imageObj.onload = function() {\n",
       "            if (fig.image_mode == 'full') {\n",
       "                // Full images could contain transparency (where diff images\n",
       "                // almost always do), so we need to clear the canvas so that\n",
       "                // there is no ghosting.\n",
       "                fig.context.clearRect(0, 0, fig.canvas.width, fig.canvas.height);\n",
       "            }\n",
       "            fig.context.drawImage(fig.imageObj, 0, 0);\n",
       "        };\n",
       "\n",
       "    this.imageObj.onunload = function() {\n",
       "        fig.ws.close();\n",
       "    }\n",
       "\n",
       "    this.ws.onmessage = this._make_on_message_function(this);\n",
       "\n",
       "    this.ondownload = ondownload;\n",
       "}\n",
       "\n",
       "mpl.figure.prototype._init_header = function() {\n",
       "    var titlebar = $(\n",
       "        '<div class=\"ui-dialog-titlebar ui-widget-header ui-corner-all ' +\n",
       "        'ui-helper-clearfix\"/>');\n",
       "    var titletext = $(\n",
       "        '<div class=\"ui-dialog-title\" style=\"width: 100%; ' +\n",
       "        'text-align: center; padding: 3px;\"/>');\n",
       "    titlebar.append(titletext)\n",
       "    this.root.append(titlebar);\n",
       "    this.header = titletext[0];\n",
       "}\n",
       "\n",
       "\n",
       "\n",
       "mpl.figure.prototype._canvas_extra_style = function(canvas_div) {\n",
       "\n",
       "}\n",
       "\n",
       "\n",
       "mpl.figure.prototype._root_extra_style = function(canvas_div) {\n",
       "\n",
       "}\n",
       "\n",
       "mpl.figure.prototype._init_canvas = function() {\n",
       "    var fig = this;\n",
       "\n",
       "    var canvas_div = $('<div/>');\n",
       "\n",
       "    canvas_div.attr('style', 'position: relative; clear: both; outline: 0');\n",
       "\n",
       "    function canvas_keyboard_event(event) {\n",
       "        return fig.key_event(event, event['data']);\n",
       "    }\n",
       "\n",
       "    canvas_div.keydown('key_press', canvas_keyboard_event);\n",
       "    canvas_div.keyup('key_release', canvas_keyboard_event);\n",
       "    this.canvas_div = canvas_div\n",
       "    this._canvas_extra_style(canvas_div)\n",
       "    this.root.append(canvas_div);\n",
       "\n",
       "    var canvas = $('<canvas/>');\n",
       "    canvas.addClass('mpl-canvas');\n",
       "    canvas.attr('style', \"left: 0; top: 0; z-index: 0; outline: 0\")\n",
       "\n",
       "    this.canvas = canvas[0];\n",
       "    this.context = canvas[0].getContext(\"2d\");\n",
       "\n",
       "    var backingStore = this.context.backingStorePixelRatio ||\n",
       "\tthis.context.webkitBackingStorePixelRatio ||\n",
       "\tthis.context.mozBackingStorePixelRatio ||\n",
       "\tthis.context.msBackingStorePixelRatio ||\n",
       "\tthis.context.oBackingStorePixelRatio ||\n",
       "\tthis.context.backingStorePixelRatio || 1;\n",
       "\n",
       "    mpl.ratio = (window.devicePixelRatio || 1) / backingStore;\n",
       "\n",
       "    var rubberband = $('<canvas/>');\n",
       "    rubberband.attr('style', \"position: absolute; left: 0; top: 0; z-index: 1;\")\n",
       "\n",
       "    var pass_mouse_events = true;\n",
       "\n",
       "    canvas_div.resizable({\n",
       "        start: function(event, ui) {\n",
       "            pass_mouse_events = false;\n",
       "        },\n",
       "        resize: function(event, ui) {\n",
       "            fig.request_resize(ui.size.width, ui.size.height);\n",
       "        },\n",
       "        stop: function(event, ui) {\n",
       "            pass_mouse_events = true;\n",
       "            fig.request_resize(ui.size.width, ui.size.height);\n",
       "        },\n",
       "    });\n",
       "\n",
       "    function mouse_event_fn(event) {\n",
       "        if (pass_mouse_events)\n",
       "            return fig.mouse_event(event, event['data']);\n",
       "    }\n",
       "\n",
       "    rubberband.mousedown('button_press', mouse_event_fn);\n",
       "    rubberband.mouseup('button_release', mouse_event_fn);\n",
       "    // Throttle sequential mouse events to 1 every 20ms.\n",
       "    rubberband.mousemove('motion_notify', mouse_event_fn);\n",
       "\n",
       "    rubberband.mouseenter('figure_enter', mouse_event_fn);\n",
       "    rubberband.mouseleave('figure_leave', mouse_event_fn);\n",
       "\n",
       "    canvas_div.on(\"wheel\", function (event) {\n",
       "        event = event.originalEvent;\n",
       "        event['data'] = 'scroll'\n",
       "        if (event.deltaY < 0) {\n",
       "            event.step = 1;\n",
       "        } else {\n",
       "            event.step = -1;\n",
       "        }\n",
       "        mouse_event_fn(event);\n",
       "    });\n",
       "\n",
       "    canvas_div.append(canvas);\n",
       "    canvas_div.append(rubberband);\n",
       "\n",
       "    this.rubberband = rubberband;\n",
       "    this.rubberband_canvas = rubberband[0];\n",
       "    this.rubberband_context = rubberband[0].getContext(\"2d\");\n",
       "    this.rubberband_context.strokeStyle = \"#000000\";\n",
       "\n",
       "    this._resize_canvas = function(width, height) {\n",
       "        // Keep the size of the canvas, canvas container, and rubber band\n",
       "        // canvas in synch.\n",
       "        canvas_div.css('width', width)\n",
       "        canvas_div.css('height', height)\n",
       "\n",
       "        canvas.attr('width', width * mpl.ratio);\n",
       "        canvas.attr('height', height * mpl.ratio);\n",
       "        canvas.attr('style', 'width: ' + width + 'px; height: ' + height + 'px;');\n",
       "\n",
       "        rubberband.attr('width', width);\n",
       "        rubberband.attr('height', height);\n",
       "    }\n",
       "\n",
       "    // Set the figure to an initial 600x600px, this will subsequently be updated\n",
       "    // upon first draw.\n",
       "    this._resize_canvas(600, 600);\n",
       "\n",
       "    // Disable right mouse context menu.\n",
       "    $(this.rubberband_canvas).bind(\"contextmenu\",function(e){\n",
       "        return false;\n",
       "    });\n",
       "\n",
       "    function set_focus () {\n",
       "        canvas.focus();\n",
       "        canvas_div.focus();\n",
       "    }\n",
       "\n",
       "    window.setTimeout(set_focus, 100);\n",
       "}\n",
       "\n",
       "mpl.figure.prototype._init_toolbar = function() {\n",
       "    var fig = this;\n",
       "\n",
       "    var nav_element = $('<div/>')\n",
       "    nav_element.attr('style', 'width: 100%');\n",
       "    this.root.append(nav_element);\n",
       "\n",
       "    // Define a callback function for later on.\n",
       "    function toolbar_event(event) {\n",
       "        return fig.toolbar_button_onclick(event['data']);\n",
       "    }\n",
       "    function toolbar_mouse_event(event) {\n",
       "        return fig.toolbar_button_onmouseover(event['data']);\n",
       "    }\n",
       "\n",
       "    for(var toolbar_ind in mpl.toolbar_items) {\n",
       "        var name = mpl.toolbar_items[toolbar_ind][0];\n",
       "        var tooltip = mpl.toolbar_items[toolbar_ind][1];\n",
       "        var image = mpl.toolbar_items[toolbar_ind][2];\n",
       "        var method_name = mpl.toolbar_items[toolbar_ind][3];\n",
       "\n",
       "        if (!name) {\n",
       "            // put a spacer in here.\n",
       "            continue;\n",
       "        }\n",
       "        var button = $('<button/>');\n",
       "        button.addClass('ui-button ui-widget ui-state-default ui-corner-all ' +\n",
       "                        'ui-button-icon-only');\n",
       "        button.attr('role', 'button');\n",
       "        button.attr('aria-disabled', 'false');\n",
       "        button.click(method_name, toolbar_event);\n",
       "        button.mouseover(tooltip, toolbar_mouse_event);\n",
       "\n",
       "        var icon_img = $('<span/>');\n",
       "        icon_img.addClass('ui-button-icon-primary ui-icon');\n",
       "        icon_img.addClass(image);\n",
       "        icon_img.addClass('ui-corner-all');\n",
       "\n",
       "        var tooltip_span = $('<span/>');\n",
       "        tooltip_span.addClass('ui-button-text');\n",
       "        tooltip_span.html(tooltip);\n",
       "\n",
       "        button.append(icon_img);\n",
       "        button.append(tooltip_span);\n",
       "\n",
       "        nav_element.append(button);\n",
       "    }\n",
       "\n",
       "    var fmt_picker_span = $('<span/>');\n",
       "\n",
       "    var fmt_picker = $('<select/>');\n",
       "    fmt_picker.addClass('mpl-toolbar-option ui-widget ui-widget-content');\n",
       "    fmt_picker_span.append(fmt_picker);\n",
       "    nav_element.append(fmt_picker_span);\n",
       "    this.format_dropdown = fmt_picker[0];\n",
       "\n",
       "    for (var ind in mpl.extensions) {\n",
       "        var fmt = mpl.extensions[ind];\n",
       "        var option = $(\n",
       "            '<option/>', {selected: fmt === mpl.default_extension}).html(fmt);\n",
       "        fmt_picker.append(option)\n",
       "    }\n",
       "\n",
       "    // Add hover states to the ui-buttons\n",
       "    $( \".ui-button\" ).hover(\n",
       "        function() { $(this).addClass(\"ui-state-hover\");},\n",
       "        function() { $(this).removeClass(\"ui-state-hover\");}\n",
       "    );\n",
       "\n",
       "    var status_bar = $('<span class=\"mpl-message\"/>');\n",
       "    nav_element.append(status_bar);\n",
       "    this.message = status_bar[0];\n",
       "}\n",
       "\n",
       "mpl.figure.prototype.request_resize = function(x_pixels, y_pixels) {\n",
       "    // Request matplotlib to resize the figure. Matplotlib will then trigger a resize in the client,\n",
       "    // which will in turn request a refresh of the image.\n",
       "    this.send_message('resize', {'width': x_pixels, 'height': y_pixels});\n",
       "}\n",
       "\n",
       "mpl.figure.prototype.send_message = function(type, properties) {\n",
       "    properties['type'] = type;\n",
       "    properties['figure_id'] = this.id;\n",
       "    this.ws.send(JSON.stringify(properties));\n",
       "}\n",
       "\n",
       "mpl.figure.prototype.send_draw_message = function() {\n",
       "    if (!this.waiting) {\n",
       "        this.waiting = true;\n",
       "        this.ws.send(JSON.stringify({type: \"draw\", figure_id: this.id}));\n",
       "    }\n",
       "}\n",
       "\n",
       "\n",
       "mpl.figure.prototype.handle_save = function(fig, msg) {\n",
       "    var format_dropdown = fig.format_dropdown;\n",
       "    var format = format_dropdown.options[format_dropdown.selectedIndex].value;\n",
       "    fig.ondownload(fig, format);\n",
       "}\n",
       "\n",
       "\n",
       "mpl.figure.prototype.handle_resize = function(fig, msg) {\n",
       "    var size = msg['size'];\n",
       "    if (size[0] != fig.canvas.width || size[1] != fig.canvas.height) {\n",
       "        fig._resize_canvas(size[0], size[1]);\n",
       "        fig.send_message(\"refresh\", {});\n",
       "    };\n",
       "}\n",
       "\n",
       "mpl.figure.prototype.handle_rubberband = function(fig, msg) {\n",
       "    var x0 = msg['x0'] / mpl.ratio;\n",
       "    var y0 = (fig.canvas.height - msg['y0']) / mpl.ratio;\n",
       "    var x1 = msg['x1'] / mpl.ratio;\n",
       "    var y1 = (fig.canvas.height - msg['y1']) / mpl.ratio;\n",
       "    x0 = Math.floor(x0) + 0.5;\n",
       "    y0 = Math.floor(y0) + 0.5;\n",
       "    x1 = Math.floor(x1) + 0.5;\n",
       "    y1 = Math.floor(y1) + 0.5;\n",
       "    var min_x = Math.min(x0, x1);\n",
       "    var min_y = Math.min(y0, y1);\n",
       "    var width = Math.abs(x1 - x0);\n",
       "    var height = Math.abs(y1 - y0);\n",
       "\n",
       "    fig.rubberband_context.clearRect(\n",
       "        0, 0, fig.canvas.width, fig.canvas.height);\n",
       "\n",
       "    fig.rubberband_context.strokeRect(min_x, min_y, width, height);\n",
       "}\n",
       "\n",
       "mpl.figure.prototype.handle_figure_label = function(fig, msg) {\n",
       "    // Updates the figure title.\n",
       "    fig.header.textContent = msg['label'];\n",
       "}\n",
       "\n",
       "mpl.figure.prototype.handle_cursor = function(fig, msg) {\n",
       "    var cursor = msg['cursor'];\n",
       "    switch(cursor)\n",
       "    {\n",
       "    case 0:\n",
       "        cursor = 'pointer';\n",
       "        break;\n",
       "    case 1:\n",
       "        cursor = 'default';\n",
       "        break;\n",
       "    case 2:\n",
       "        cursor = 'crosshair';\n",
       "        break;\n",
       "    case 3:\n",
       "        cursor = 'move';\n",
       "        break;\n",
       "    }\n",
       "    fig.rubberband_canvas.style.cursor = cursor;\n",
       "}\n",
       "\n",
       "mpl.figure.prototype.handle_message = function(fig, msg) {\n",
       "    fig.message.textContent = msg['message'];\n",
       "}\n",
       "\n",
       "mpl.figure.prototype.handle_draw = function(fig, msg) {\n",
       "    // Request the server to send over a new figure.\n",
       "    fig.send_draw_message();\n",
       "}\n",
       "\n",
       "mpl.figure.prototype.handle_image_mode = function(fig, msg) {\n",
       "    fig.image_mode = msg['mode'];\n",
       "}\n",
       "\n",
       "mpl.figure.prototype.updated_canvas_event = function() {\n",
       "    // Called whenever the canvas gets updated.\n",
       "    this.send_message(\"ack\", {});\n",
       "}\n",
       "\n",
       "// A function to construct a web socket function for onmessage handling.\n",
       "// Called in the figure constructor.\n",
       "mpl.figure.prototype._make_on_message_function = function(fig) {\n",
       "    return function socket_on_message(evt) {\n",
       "        if (evt.data instanceof Blob) {\n",
       "            /* FIXME: We get \"Resource interpreted as Image but\n",
       "             * transferred with MIME type text/plain:\" errors on\n",
       "             * Chrome.  But how to set the MIME type?  It doesn't seem\n",
       "             * to be part of the websocket stream */\n",
       "            evt.data.type = \"image/png\";\n",
       "\n",
       "            /* Free the memory for the previous frames */\n",
       "            if (fig.imageObj.src) {\n",
       "                (window.URL || window.webkitURL).revokeObjectURL(\n",
       "                    fig.imageObj.src);\n",
       "            }\n",
       "\n",
       "            fig.imageObj.src = (window.URL || window.webkitURL).createObjectURL(\n",
       "                evt.data);\n",
       "            fig.updated_canvas_event();\n",
       "            fig.waiting = false;\n",
       "            return;\n",
       "        }\n",
       "        else if (typeof evt.data === 'string' && evt.data.slice(0, 21) == \"data:image/png;base64\") {\n",
       "            fig.imageObj.src = evt.data;\n",
       "            fig.updated_canvas_event();\n",
       "            fig.waiting = false;\n",
       "            return;\n",
       "        }\n",
       "\n",
       "        var msg = JSON.parse(evt.data);\n",
       "        var msg_type = msg['type'];\n",
       "\n",
       "        // Call the  \"handle_{type}\" callback, which takes\n",
       "        // the figure and JSON message as its only arguments.\n",
       "        try {\n",
       "            var callback = fig[\"handle_\" + msg_type];\n",
       "        } catch (e) {\n",
       "            console.log(\"No handler for the '\" + msg_type + \"' message type: \", msg);\n",
       "            return;\n",
       "        }\n",
       "\n",
       "        if (callback) {\n",
       "            try {\n",
       "                // console.log(\"Handling '\" + msg_type + \"' message: \", msg);\n",
       "                callback(fig, msg);\n",
       "            } catch (e) {\n",
       "                console.log(\"Exception inside the 'handler_\" + msg_type + \"' callback:\", e, e.stack, msg);\n",
       "            }\n",
       "        }\n",
       "    };\n",
       "}\n",
       "\n",
       "// from http://stackoverflow.com/questions/1114465/getting-mouse-location-in-canvas\n",
       "mpl.findpos = function(e) {\n",
       "    //this section is from http://www.quirksmode.org/js/events_properties.html\n",
       "    var targ;\n",
       "    if (!e)\n",
       "        e = window.event;\n",
       "    if (e.target)\n",
       "        targ = e.target;\n",
       "    else if (e.srcElement)\n",
       "        targ = e.srcElement;\n",
       "    if (targ.nodeType == 3) // defeat Safari bug\n",
       "        targ = targ.parentNode;\n",
       "\n",
       "    // jQuery normalizes the pageX and pageY\n",
       "    // pageX,Y are the mouse positions relative to the document\n",
       "    // offset() returns the position of the element relative to the document\n",
       "    var x = e.pageX - $(targ).offset().left;\n",
       "    var y = e.pageY - $(targ).offset().top;\n",
       "\n",
       "    return {\"x\": x, \"y\": y};\n",
       "};\n",
       "\n",
       "/*\n",
       " * return a copy of an object with only non-object keys\n",
       " * we need this to avoid circular references\n",
       " * http://stackoverflow.com/a/24161582/3208463\n",
       " */\n",
       "function simpleKeys (original) {\n",
       "  return Object.keys(original).reduce(function (obj, key) {\n",
       "    if (typeof original[key] !== 'object')\n",
       "        obj[key] = original[key]\n",
       "    return obj;\n",
       "  }, {});\n",
       "}\n",
       "\n",
       "mpl.figure.prototype.mouse_event = function(event, name) {\n",
       "    var canvas_pos = mpl.findpos(event)\n",
       "\n",
       "    if (name === 'button_press')\n",
       "    {\n",
       "        this.canvas.focus();\n",
       "        this.canvas_div.focus();\n",
       "    }\n",
       "\n",
       "    var x = canvas_pos.x * mpl.ratio;\n",
       "    var y = canvas_pos.y * mpl.ratio;\n",
       "\n",
       "    this.send_message(name, {x: x, y: y, button: event.button,\n",
       "                             step: event.step,\n",
       "                             guiEvent: simpleKeys(event)});\n",
       "\n",
       "    /* This prevents the web browser from automatically changing to\n",
       "     * the text insertion cursor when the button is pressed.  We want\n",
       "     * to control all of the cursor setting manually through the\n",
       "     * 'cursor' event from matplotlib */\n",
       "    event.preventDefault();\n",
       "    return false;\n",
       "}\n",
       "\n",
       "mpl.figure.prototype._key_event_extra = function(event, name) {\n",
       "    // Handle any extra behaviour associated with a key event\n",
       "}\n",
       "\n",
       "mpl.figure.prototype.key_event = function(event, name) {\n",
       "\n",
       "    // Prevent repeat events\n",
       "    if (name == 'key_press')\n",
       "    {\n",
       "        if (event.which === this._key)\n",
       "            return;\n",
       "        else\n",
       "            this._key = event.which;\n",
       "    }\n",
       "    if (name == 'key_release')\n",
       "        this._key = null;\n",
       "\n",
       "    var value = '';\n",
       "    if (event.ctrlKey && event.which != 17)\n",
       "        value += \"ctrl+\";\n",
       "    if (event.altKey && event.which != 18)\n",
       "        value += \"alt+\";\n",
       "    if (event.shiftKey && event.which != 16)\n",
       "        value += \"shift+\";\n",
       "\n",
       "    value += 'k';\n",
       "    value += event.which.toString();\n",
       "\n",
       "    this._key_event_extra(event, name);\n",
       "\n",
       "    this.send_message(name, {key: value,\n",
       "                             guiEvent: simpleKeys(event)});\n",
       "    return false;\n",
       "}\n",
       "\n",
       "mpl.figure.prototype.toolbar_button_onclick = function(name) {\n",
       "    if (name == 'download') {\n",
       "        this.handle_save(this, null);\n",
       "    } else {\n",
       "        this.send_message(\"toolbar_button\", {name: name});\n",
       "    }\n",
       "};\n",
       "\n",
       "mpl.figure.prototype.toolbar_button_onmouseover = function(tooltip) {\n",
       "    this.message.textContent = tooltip;\n",
       "};\n",
       "mpl.toolbar_items = [[\"Home\", \"Reset original view\", \"fa fa-home icon-home\", \"home\"], [\"Back\", \"Back to  previous view\", \"fa fa-arrow-left icon-arrow-left\", \"back\"], [\"Forward\", \"Forward to next view\", \"fa fa-arrow-right icon-arrow-right\", \"forward\"], [\"\", \"\", \"\", \"\"], [\"Pan\", \"Pan axes with left mouse, zoom with right\", \"fa fa-arrows icon-move\", \"pan\"], [\"Zoom\", \"Zoom to rectangle\", \"fa fa-square-o icon-check-empty\", \"zoom\"], [\"\", \"\", \"\", \"\"], [\"Download\", \"Download plot\", \"fa fa-floppy-o icon-save\", \"download\"]];\n",
       "\n",
       "mpl.extensions = [\"eps\", \"jpeg\", \"pdf\", \"png\", \"ps\", \"raw\", \"svg\", \"tif\"];\n",
       "\n",
       "mpl.default_extension = \"png\";var comm_websocket_adapter = function(comm) {\n",
       "    // Create a \"websocket\"-like object which calls the given IPython comm\n",
       "    // object with the appropriate methods. Currently this is a non binary\n",
       "    // socket, so there is still some room for performance tuning.\n",
       "    var ws = {};\n",
       "\n",
       "    ws.close = function() {\n",
       "        comm.close()\n",
       "    };\n",
       "    ws.send = function(m) {\n",
       "        //console.log('sending', m);\n",
       "        comm.send(m);\n",
       "    };\n",
       "    // Register the callback with on_msg.\n",
       "    comm.on_msg(function(msg) {\n",
       "        //console.log('receiving', msg['content']['data'], msg);\n",
       "        // Pass the mpl event to the overriden (by mpl) onmessage function.\n",
       "        ws.onmessage(msg['content']['data'])\n",
       "    });\n",
       "    return ws;\n",
       "}\n",
       "\n",
       "mpl.mpl_figure_comm = function(comm, msg) {\n",
       "    // This is the function which gets called when the mpl process\n",
       "    // starts-up an IPython Comm through the \"matplotlib\" channel.\n",
       "\n",
       "    var id = msg.content.data.id;\n",
       "    // Get hold of the div created by the display call when the Comm\n",
       "    // socket was opened in Python.\n",
       "    var element = $(\"#\" + id);\n",
       "    var ws_proxy = comm_websocket_adapter(comm)\n",
       "\n",
       "    function ondownload(figure, format) {\n",
       "        window.open(figure.imageObj.src);\n",
       "    }\n",
       "\n",
       "    var fig = new mpl.figure(id, ws_proxy,\n",
       "                           ondownload,\n",
       "                           element.get(0));\n",
       "\n",
       "    // Call onopen now - mpl needs it, as it is assuming we've passed it a real\n",
       "    // web socket which is closed, not our websocket->open comm proxy.\n",
       "    ws_proxy.onopen();\n",
       "\n",
       "    fig.parent_element = element.get(0);\n",
       "    fig.cell_info = mpl.find_output_cell(\"<div id='\" + id + \"'></div>\");\n",
       "    if (!fig.cell_info) {\n",
       "        console.error(\"Failed to find cell for figure\", id, fig);\n",
       "        return;\n",
       "    }\n",
       "\n",
       "    var output_index = fig.cell_info[2]\n",
       "    var cell = fig.cell_info[0];\n",
       "\n",
       "};\n",
       "\n",
       "mpl.figure.prototype.handle_close = function(fig, msg) {\n",
       "    var width = fig.canvas.width/mpl.ratio\n",
       "    fig.root.unbind('remove')\n",
       "\n",
       "    // Update the output cell to use the data from the current canvas.\n",
       "    fig.push_to_output();\n",
       "    var dataURL = fig.canvas.toDataURL();\n",
       "    // Re-enable the keyboard manager in IPython - without this line, in FF,\n",
       "    // the notebook keyboard shortcuts fail.\n",
       "    IPython.keyboard_manager.enable()\n",
       "    $(fig.parent_element).html('<img src=\"' + dataURL + '\" width=\"' + width + '\">');\n",
       "    fig.close_ws(fig, msg);\n",
       "}\n",
       "\n",
       "mpl.figure.prototype.close_ws = function(fig, msg){\n",
       "    fig.send_message('closing', msg);\n",
       "    // fig.ws.close()\n",
       "}\n",
       "\n",
       "mpl.figure.prototype.push_to_output = function(remove_interactive) {\n",
       "    // Turn the data on the canvas into data in the output cell.\n",
       "    var width = this.canvas.width/mpl.ratio\n",
       "    var dataURL = this.canvas.toDataURL();\n",
       "    this.cell_info[1]['text/html'] = '<img src=\"' + dataURL + '\" width=\"' + width + '\">';\n",
       "}\n",
       "\n",
       "mpl.figure.prototype.updated_canvas_event = function() {\n",
       "    // Tell IPython that the notebook contents must change.\n",
       "    IPython.notebook.set_dirty(true);\n",
       "    this.send_message(\"ack\", {});\n",
       "    var fig = this;\n",
       "    // Wait a second, then push the new image to the DOM so\n",
       "    // that it is saved nicely (might be nice to debounce this).\n",
       "    setTimeout(function () { fig.push_to_output() }, 1000);\n",
       "}\n",
       "\n",
       "mpl.figure.prototype._init_toolbar = function() {\n",
       "    var fig = this;\n",
       "\n",
       "    var nav_element = $('<div/>')\n",
       "    nav_element.attr('style', 'width: 100%');\n",
       "    this.root.append(nav_element);\n",
       "\n",
       "    // Define a callback function for later on.\n",
       "    function toolbar_event(event) {\n",
       "        return fig.toolbar_button_onclick(event['data']);\n",
       "    }\n",
       "    function toolbar_mouse_event(event) {\n",
       "        return fig.toolbar_button_onmouseover(event['data']);\n",
       "    }\n",
       "\n",
       "    for(var toolbar_ind in mpl.toolbar_items){\n",
       "        var name = mpl.toolbar_items[toolbar_ind][0];\n",
       "        var tooltip = mpl.toolbar_items[toolbar_ind][1];\n",
       "        var image = mpl.toolbar_items[toolbar_ind][2];\n",
       "        var method_name = mpl.toolbar_items[toolbar_ind][3];\n",
       "\n",
       "        if (!name) { continue; };\n",
       "\n",
       "        var button = $('<button class=\"btn btn-default\" href=\"#\" title=\"' + name + '\"><i class=\"fa ' + image + ' fa-lg\"></i></button>');\n",
       "        button.click(method_name, toolbar_event);\n",
       "        button.mouseover(tooltip, toolbar_mouse_event);\n",
       "        nav_element.append(button);\n",
       "    }\n",
       "\n",
       "    // Add the status bar.\n",
       "    var status_bar = $('<span class=\"mpl-message\" style=\"text-align:right; float: right;\"/>');\n",
       "    nav_element.append(status_bar);\n",
       "    this.message = status_bar[0];\n",
       "\n",
       "    // Add the close button to the window.\n",
       "    var buttongrp = $('<div class=\"btn-group inline pull-right\"></div>');\n",
       "    var button = $('<button class=\"btn btn-mini btn-primary\" href=\"#\" title=\"Stop Interaction\"><i class=\"fa fa-power-off icon-remove icon-large\"></i></button>');\n",
       "    button.click(function (evt) { fig.handle_close(fig, {}); } );\n",
       "    button.mouseover('Stop Interaction', toolbar_mouse_event);\n",
       "    buttongrp.append(button);\n",
       "    var titlebar = this.root.find($('.ui-dialog-titlebar'));\n",
       "    titlebar.prepend(buttongrp);\n",
       "}\n",
       "\n",
       "mpl.figure.prototype._root_extra_style = function(el){\n",
       "    var fig = this\n",
       "    el.on(\"remove\", function(){\n",
       "\tfig.close_ws(fig, {});\n",
       "    });\n",
       "}\n",
       "\n",
       "mpl.figure.prototype._canvas_extra_style = function(el){\n",
       "    // this is important to make the div 'focusable\n",
       "    el.attr('tabindex', 0)\n",
       "    // reach out to IPython and tell the keyboard manager to turn it's self\n",
       "    // off when our div gets focus\n",
       "\n",
       "    // location in version 3\n",
       "    if (IPython.notebook.keyboard_manager) {\n",
       "        IPython.notebook.keyboard_manager.register_events(el);\n",
       "    }\n",
       "    else {\n",
       "        // location in version 2\n",
       "        IPython.keyboard_manager.register_events(el);\n",
       "    }\n",
       "\n",
       "}\n",
       "\n",
       "mpl.figure.prototype._key_event_extra = function(event, name) {\n",
       "    var manager = IPython.notebook.keyboard_manager;\n",
       "    if (!manager)\n",
       "        manager = IPython.keyboard_manager;\n",
       "\n",
       "    // Check for shift+enter\n",
       "    if (event.shiftKey && event.which == 13) {\n",
       "        this.canvas_div.blur();\n",
       "        event.shiftKey = false;\n",
       "        // Send a \"J\" for go to next cell\n",
       "        event.which = 74;\n",
       "        event.keyCode = 74;\n",
       "        manager.command_mode();\n",
       "        manager.handle_keydown(event);\n",
       "    }\n",
       "}\n",
       "\n",
       "mpl.figure.prototype.handle_save = function(fig, msg) {\n",
       "    fig.ondownload(fig, null);\n",
       "}\n",
       "\n",
       "\n",
       "mpl.find_output_cell = function(html_output) {\n",
       "    // Return the cell and output element which can be found *uniquely* in the notebook.\n",
       "    // Note - this is a bit hacky, but it is done because the \"notebook_saving.Notebook\"\n",
       "    // IPython event is triggered only after the cells have been serialised, which for\n",
       "    // our purposes (turning an active figure into a static one), is too late.\n",
       "    var cells = IPython.notebook.get_cells();\n",
       "    var ncells = cells.length;\n",
       "    for (var i=0; i<ncells; i++) {\n",
       "        var cell = cells[i];\n",
       "        if (cell.cell_type === 'code'){\n",
       "            for (var j=0; j<cell.output_area.outputs.length; j++) {\n",
       "                var data = cell.output_area.outputs[j];\n",
       "                if (data.data) {\n",
       "                    // IPython >= 3 moved mimebundle to data attribute of output\n",
       "                    data = data.data;\n",
       "                }\n",
       "                if (data['text/html'] == html_output) {\n",
       "                    return [cell, data, j];\n",
       "                }\n",
       "            }\n",
       "        }\n",
       "    }\n",
       "}\n",
       "\n",
       "// Register the function which deals with the matplotlib target/channel.\n",
       "// The kernel may be null if the page has been refreshed.\n",
       "if (IPython.notebook.kernel != null) {\n",
       "    IPython.notebook.kernel.comm_manager.register_target('matplotlib', mpl.mpl_figure_comm);\n",
       "}\n"
      ],
      "text/plain": [
       "<IPython.core.display.Javascript object>"
      ]
     },
     "metadata": {},
     "output_type": "display_data"
    },
    {
     "data": {
      "text/html": [
       "<img src=\"data:image/png;base64,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\" width=\"640\">"
      ],
      "text/plain": [
       "<IPython.core.display.HTML object>"
      ]
     },
     "metadata": {},
     "output_type": "display_data"
    },
    {
     "data": {
      "text/plain": [
       "<a list of 8 text.Text objects>"
      ]
     },
     "execution_count": 6,
     "metadata": {},
     "output_type": "execute_result"
    }
   ],
   "source": [
    "ml = Model(T = 100)\n",
    "w1 = Well(ml, xw=0, yw= -50 ,Q = 100)\n",
    "w2 = HeadWell(ml,xw = 50, yw= 50,h=2,rw = 0.2)\n",
    "w3 = HeadWell(ml,xw = -50, yw= 50,h=2,rw = 0.2)\n",
    "x,y = np.meshgrid(np.linspace(-1000,1000,1000),np.linspace(-1000,1000,1000))\n",
    "plt.figure()\n",
    "cs = plt.contour(x,y,ml.head(x,y),20)\n",
    "plt.clabel(cs)"
   ]
  },
  {
   "cell_type": "code",
   "execution_count": 10,
   "metadata": {},
   "outputs": [
    {
     "data": {
      "text/plain": [
       "1"
      ]
     },
     "execution_count": 10,
     "metadata": {},
     "output_type": "execute_result"
    }
   ],
   "source": [
    "ml.elementlist[2].equation"
   ]
  },
  {
   "cell_type": "code",
   "execution_count": 7,
   "metadata": {},
   "outputs": [
    {
     "name": "stdout",
     "output_type": "stream",
     "text": [
      "The discharge at well 1 is 0.00 m^3/d\n",
      "The discharge at well 2 is 0.00 m^3/d\n"
     ]
    }
   ],
   "source": [
    "print('The discharge at well 1 is %.2f m^3/d'%(ml.elementlist[1].Q))\n",
    "print('The discharge at well 2 is %.2f m^3/d'%(ml.elementlist[2].Q))"
   ]
  },
  {
   "cell_type": "markdown",
   "metadata": {},
   "source": [
    "## AEM Model 5, Line-sinks\n",
    "\n",
    "The last step is to add line-sinks with a known discharge and line-sinks with a specified head. The `Model` class and `Well` class are unchanged."
   ]
  },
  {
   "cell_type": "markdown",
   "metadata": {},
   "source": [
    "The complex potential for a line-sink is given by\n",
    "\n",
    "$$\\Omega = \\Phi + i\\Psi = \\frac{Q}{2\\pi(z_2-z_1)}\\left[ (z-z_1)\\ln(z-z_1) - (z-z_2)\\ln(z-z_2) \\right]$$\n",
    "\n",
    "where $\\Phi$ is the discharge potential, $\\Psi$ is the stream function, $i$ is the imaginary unit, $z=x+iy$ is the complex coordiante, $z_1=x_1+iy_1$ and $z_2=x_2+iy_2$ are the end points of the line-sink, and $Q$ is the total discharge of the line-sink, which is equally distributed along the line."
   ]
  },
  {
   "cell_type": "code",
   "execution_count": null,
   "metadata": {
    "collapsed": true
   },
   "outputs": [],
   "source": [
    "class LineSink:\n",
    "    def __init__(self, ml, x1=-1, y1=0, x2=1, y2=0, Q=1.0):\n",
    "        self.z1 = x1 + y1 * 1j\n",
    "        self.z2 = x2 + y2 * 1j\n",
    "        self.L = abs(self.z2 - self.z1)\n",
    "        self.Q = Q\n",
    "        self.model = ml\n",
    "        self.Nunknowns = 0\n",
    "        ml.elementlist.append(self)\n",
    "    def potinf(self, x, y):\n",
    "        z = x + y * 1j\n",
    "        part1 = (z - self.z1) * np.log(z - self.z1)\n",
    "        part2 = (z - self.z2) * np.log(z - self.z2)\n",
    "        omega = 1.0 / (2 * np.pi * (self.z2 - self.z1) ) * (part1 - part2)\n",
    "        return omega.real\n",
    "    def potential(self,x,y):\n",
    "        return self.Q * self.potinf(x, y)"
   ]
  },
  {
   "cell_type": "markdown",
   "metadata": {},
   "source": [
    "We  create a separate class to generate the equation for an element with a given head, as that method is the same for both the head-specified well and the head-specified line-sink. Both the `HeadWell` and the `HeadLineSink` classes inherit from this the `HeadWell` class."
   ]
  },
  {
   "cell_type": "code",
   "execution_count": null,
   "metadata": {
    "collapsed": true
   },
   "outputs": [],
   "source": [
    "class HeadEquation:\n",
    "    def equation(self):\n",
    "        row = np.zeros(self.model.Nunknowns)\n",
    "        rhs = self.pot\n",
    "        icol = 0\n",
    "        for e in self.model.elementlist:\n",
    "            if e.Nunknowns > 0:\n",
    "                row[icol] = e.potinf(self.xc, self.yc)\n",
    "                icol += 1\n",
    "            else:\n",
    "                rhs += -e.potential(self.xc, self.yc)\n",
    "        return row, rhs"
   ]
  },
  {
   "cell_type": "code",
   "execution_count": null,
   "metadata": {
    "collapsed": true
   },
   "outputs": [],
   "source": [
    "class HeadWell(Well, HeadEquation):\n",
    "    def __init__(self, ml, xw=0, yw=0, h=1, rw=0.3):\n",
    "        Well.__init__(self, ml, xw, yw, 0.0)\n",
    "        self.xc = self.xw + rw\n",
    "        self.yc = self.yw\n",
    "        self.pot = h * self.model.T\n",
    "        self.Nunknowns = 1"
   ]
  },
  {
   "cell_type": "code",
   "execution_count": null,
   "metadata": {
    "collapsed": true
   },
   "outputs": [],
   "source": [
    "class HeadLineSink(LineSink, HeadEquation):\n",
    "    def __init__(self, ml, x1=-1, y1=0, x2=1, y2=0, h=0.0):\n",
    "        LineSink.__init__(self, ml, x1, y1, x2, y2, 0.0)\n",
    "        self.xc = 0.5 * (x1 + x2)\n",
    "        self.yc = 0.5 * (y1 + y2)\n",
    "        self.pot = ml.T * h\n",
    "        self.Nunknowns = 1"
   ]
  },
  {
   "cell_type": "markdown",
   "metadata": {},
   "source": [
    "### Exercise 6\n",
    "\n",
    "#### Exercise 6a\n",
    "Create a contour plot for a line-sink with a total discharge of $Q=10$ m$^3$/d in an aquifer with a transmissivity\n",
    "of $T=100$ m$^2$/d. The line-sink runs from $(x,y)=(−50,0)$ to $(x,y)=(50,0)$."
   ]
  },
  {
   "cell_type": "code",
   "execution_count": null,
   "metadata": {
    "collapsed": true
   },
   "outputs": [],
   "source": []
  },
  {
   "cell_type": "markdown",
   "metadata": {},
   "source": [
    "#### Exercise 6b\n",
    "Create a similar contour plot but now simulate the line-sink with 10 wells with discharge $Q=1$ m$^3$/d\n",
    "equally distributed along the line-sink. Does the plot compare well to the plot of the line-sink?"
   ]
  },
  {
   "cell_type": "code",
   "execution_count": null,
   "metadata": {
    "collapsed": true
   },
   "outputs": [],
   "source": []
  },
  {
   "cell_type": "markdown",
   "metadata": {},
   "source": [
    "#### Exercise 6c\n",
    "Change the line-sink of question *a* to a `HeadLineSink` with a head equal to 10 m and make a contour plot. Don't forget to solve. Check that the head at the center of the line-sink is indeed 10. Note that the head is not uniform along the line-sink. The inflow is uniform and the head is only equal to 10 at the center of the line-sink."
   ]
  },
  {
   "cell_type": "code",
   "execution_count": null,
   "metadata": {
    "collapsed": true
   },
   "outputs": [],
   "source": []
  },
  {
   "cell_type": "markdown",
   "metadata": {},
   "source": [
    "#### Exercise 6d\n",
    "Replace the `HeadLineSink` of the previous question with 10 `HeadLineSink` elements to simulate a constant\n",
    "head along the stretch more accurately."
   ]
  },
  {
   "cell_type": "code",
   "execution_count": null,
   "metadata": {
    "collapsed": true
   },
   "outputs": [],
   "source": []
  },
  {
   "cell_type": "markdown",
   "metadata": {},
   "source": [
    "#### Exercise 6e\n",
    "Compute the discharge per unit length of each line-sink and make a bar plot showing the variation of inflow along the line-sink."
   ]
  },
  {
   "cell_type": "code",
   "execution_count": null,
   "metadata": {
    "collapsed": true
   },
   "outputs": [],
   "source": []
  }
 ],
 "metadata": {
  "kernelspec": {
   "display_name": "Python 3",
   "language": "python",
   "name": "python3"
  },
  "language_info": {
   "codemirror_mode": {
    "name": "ipython",
    "version": 3
   },
   "file_extension": ".py",
   "mimetype": "text/x-python",
   "name": "python",
   "nbconvert_exporter": "python",
   "pygments_lexer": "ipython3",
   "version": "3.6.3"
  }
 },
 "nbformat": 4,
 "nbformat_minor": 1
}
