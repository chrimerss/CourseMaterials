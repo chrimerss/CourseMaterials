{
 "cells": [
  {
   "cell_type": "markdown",
   "metadata": {},
   "source": [
    "<figure>\n",
    "  <IMG SRC=\"https://raw.githubusercontent.com/mbakker7/exploratory_computing_with_python/master/tudelft_logo.png\" WIDTH=250 ALIGN=\"right\">\n",
    "</figure>\n",
    "\n",
    "# Steady flow to wells\n",
    "*Developed by Mark Bakker*"
   ]
  },
  {
   "cell_type": "code",
   "execution_count": 1,
   "metadata": {
    "collapsed": true
   },
   "outputs": [],
   "source": [
    "from pylab import *\n",
    "%matplotlib inline"
   ]
  },
  {
   "cell_type": "markdown",
   "metadata": {},
   "source": [
    "### One-dimensional, semi-confined flow\n",
    "\n",
    "In semi-confined aquifers, the top of the aquifer is formed by a leaky layer consisting of low-permeable material such as peat or clay (see figure below). The water table above or in this leaky layer is fixed. \n",
    "\n",
    "<img src=\"semi1.png\" width=\"300\">\n",
    "\n",
    "**Figure.** A semi-confined aquifer covered by a leaky layer and a fixed water level $h^*$\n",
    "\n",
    "Semi-confined aquifers occur, for example, below lakes or rives that have a leaky layer at their bottom, or below polders where the water table is fixed with ditches and drains. The specific dicharge $q_z$ through the leaky layer is considered to be vertical and \n",
    "may be computed with Darcy's law as\n",
    "\n",
    "$$\n",
    "q_z = -k_v \\frac{h^*-h}{H_v}\n",
    "$$\n",
    "\n",
    "where $h$ is the head in the aquifer, $h^*$ is the fixed head above the leaky layer, $k_v$ is the vertical hydraulic conductivity of the leaky layer, and $H_v$ is the thickness of the leaky layer. The specific discharge through the leaky layer is commonly written in the form \n",
    "\n",
    "$$\n",
    "q_z = \\frac{h-h^*}{c}\n",
    "$$\n",
    "\n",
    "where $c=H_v/k_v$ [T] is the resistance to vertical flow of the leaky layer. As shown before, one-dimensional flow in an aquifer with constant transmissivity $kH$ is governed by the differential equation \n",
    "\n",
    "$$\n",
    "\\frac{\\text{d}^2h}{\\text{d}x^2} = -\\frac{N}{kH}\n",
    "$$\n",
    "\n",
    "where $N$ is the areal recharge, defined positive for water entering the aquifer. For semi-confined aquifers, the area recharge $N$ is equal to the opposite of the vertical discharge through the leaky layer $N=-q_z$, so that the differential equation becomes\n",
    "\n",
    "$$\n",
    "\\frac{\\text{d}^2h}{\\text{d}x^2} = \\frac{h-h^*}{ckH}\n",
    "$$\n",
    "\n",
    "For the case that $h^*$ is a constant, this equation can be rewritten as\n",
    "\n",
    "$$\n",
    "\\frac{\\text{d}^2(h-h^*)}{\\text{d}x^2} = \\frac{h-h^*}{\\lambda^2}\n",
    "$$\n",
    "\n",
    "where \n",
    "\n",
    "$$\n",
    "\\lambda=\\sqrt{kHc}\n",
    "$$\n",
    "\n",
    "is referred to as the leakage factor and is a characteristic length of the system, as will be explained later. The differential equation above is a second order, linear, homogeneous, ordinary differential equation known as the modified Helmholtz equation. The general solution is\n",
    "\n",
    "$$\n",
    "h-h^* = A\\text{e}^{-x/\\lambda} + B\\text{e}^{x/\\lambda}\n",
    "$$\n",
    "\n",
    "where $A$ and $B$ are constants to be determined from boundary conditions. "
   ]
  },
  {
   "cell_type": "markdown",
   "metadata": {
    "collapsed": true
   },
   "source": [
    "### Semi-confined flow bounded by a canal\n",
    "Consider one-dimensional flow in a semi-infinite, semi-confined aquifer bounded on the left with a fully penetrating canal with water level $h_0$, as shown in the figure below. \n",
    "\n",
    "<img src=\"semi2.png\" width=\"300\">\n",
    "\n",
    "**Figure.** Semi-confined flow in a semi-infinite aquifer bounded by a canal on the left\n",
    "\n",
    "The governing differential equation is the modified Helmholtz equation, as derived above. The boundary conditions are\n",
    "\n",
    "$$\n",
    "\\begin{split}\n",
    "x&=0 \\qquad h=h_0 \\\\\n",
    "x&\\to\\infty \\qquad h=h^*\n",
    "\\end{split}\n",
    "$$\n",
    "\n",
    "Application of the second boundary condition gives $B=0$, after which application of the first boundary condition gives $A=h_0-h^*$, so that the equation for $h$ becomes\n",
    "\n",
    "$$\n",
    "h = (h_0-h^*)\\text{e}^{-x/\\lambda} + h^*\n",
    "$$\n",
    "\n",
    "and the discharge vector in the aquifer is\n",
    "\n",
    "$$\n",
    "Q_x = -kH\\frac{\\text{d}h}{\\text{d}x}=\\frac{kH(h_0-h^*)}{\\lambda}\\text{e}^{-x/\\lambda}\n",
    "$$\n",
    "\n",
    "Water flows from the canal into the semi-confined aquifer and then through the leaky layer into the overlying polder (provided that the head in the canal is larger than the head in the polder). The total discharge per meter length of the canal is called $Q_0$ and is obtained by evaluating $Q_x$ at $x=0$, which gives $Q_0=kH(h_0-h^*)/\\lambda$.\n",
    "Evaluation of the solution shows that the discharge at $x=\\lambda$ has reduced the discharge in the aquifer to $\\text{e}^{-1}Q_0=0.37Q_0$ at $x=\\lambda$, and to only $0.05Q_0$ at $x=3\\lambda$. Hence, 95\\% of the water that flows from the canal into the aquifer has discharged into the polder within a distance of $3\\lambda$ from the canal. Similarly, the difference between the head in the aquifer and the head in the polder reduces from $h_0-h^*$ at the canal ($x=0$) to only $0.05(h_0-h^*)$ at $x=3\\lambda$. Roughly speaking, three times the leakage factor (the characteristic length) away from the canal, the head in the aquifer is approximately equal to the head $h^*$ above the semi-confined aquifer. The solution is plotted in the example below."
   ]
  },
  {
   "cell_type": "code",
   "execution_count": 2,
   "metadata": {},
   "outputs": [
    {
     "name": "stdout",
     "output_type": "stream",
     "text": [
      "the leakage factor is: 100.0 m\n"
     ]
    },
    {
     "data": {
      "text/plain": [
       "(0, 500)"
      ]
     },
     "execution_count": 2,
     "metadata": {},
     "output_type": "execute_result"
    },
    {
     "data": {
      "image/png": "[encoded data removed]",
      "text/plain": [
       "<matplotlib.figure.Figure at 0x1dc94b40588>"
      ]
     },
     "metadata": {},
     "output_type": "display_data"
    }
   ],
   "source": [
    "hstar = 0\n",
    "h0 = 1\n",
    "k = 10\n",
    "H = 10\n",
    "c = 100\n",
    "lab = sqrt(k * H *c)\n",
    "print('the leakage factor is:', lab, 'm')\n",
    "x = np.linspace(0, 5 * lab, 100)\n",
    "h = (h0 - hstar) * exp(-x / lab) + hstar\n",
    "plot(x, h)\n",
    "xlabel('x (m)')\n",
    "ylabel('h (m)')\n",
    "axhline(1, linestyle=':', color='k')\n",
    "axhline(0, linestyle=':', color='k')\n",
    "text(5, 0.03, '$h^*$')\n",
    "text(5, 1.03, '$h_0$')\n",
    "xticks(arange(0, 501, 100), ['0', '$\\lambda$', '$2\\lambda$', '$3\\lambda$', '$4\\lambda$', '$5\\lambda$']);\n",
    "ylim(-0.05, 1.1)\n",
    "xlim(0, 500)"
   ]
  },
  {
   "cell_type": "markdown",
   "metadata": {
    "collapsed": true
   },
   "source": [
    "### Semi-confined flow between two polders\n",
    "Consider one-dimensional flow between two polders, as shown in the figure below. The semi-confined aquifer exends to infinity on both sides. The head in the polder on the left is $h_1^*$ while the head in the polder on the right is $h_2^*$. The aquifer parameters are the same everywhere. \n",
    "\n",
    "<img src=\"semi3.png\" width=\"300\">\n",
    "**Figure.** Flow between two polders with different water levels\n",
    "\n",
    "\n",
    "The governing differenial equations are\n",
    "\n",
    "$$\\begin{split}\n",
    "\\frac{\\text{d}^2(h-h_1^*)}{\\text{d}x^2} &= \\frac{h-h_1^*}{\\lambda^2} \\qquad x\\le 0 \\\\\n",
    "\\frac{\\text{d}^2(h-h_2^*)}{\\text{d}x^2} &= \\frac{h-h_2^*}{\\lambda^2} \\qquad x\\ge 0 \n",
    "\\end{split}$$\n",
    "\n",
    "so that there are different solutions for the left and right sides.\n",
    "\n",
    "$$\\begin{split}\n",
    "h=h_1^* +  A_1\\text{e}^{-x/\\lambda} + B_1\\text{e}^{x/\\lambda}  \\qquad x\\le 0 \\\\\n",
    "h=h_2^* + A_2\\text{e}^{-x/\\lambda} + B_2\\text{e}^{x/\\lambda}  \\qquad x\\ge 0 \\\\\n",
    "\\end{split}$$\n",
    "\n",
    "The boundary conditions are that the head approaches $h_1^*$ far to the left, the head approaches $h_2^*$ far to the right, and the head and flow are continuous at $x=0$\n",
    "\n",
    "$$\\begin{split}\n",
    "&x\\to-\\infty \\qquad h=h_1^* \\\\\n",
    "&x\\to+\\infty \\qquad h=h_2^* \\\\\n",
    "&h(x=0^-)=h(x=0^+) \\\\\n",
    "&Q_x(x=0^-)=Q_x(x=0^+) \n",
    "\\end{split}$$\n",
    "\n",
    "where $0^-$ and $0^+$ stand for just to the left and just to the right of zero. Application of the first two boundary conditions gives $A_1=0$ and $B_2=0$, after which application of the two continuity conditions gives the following two equations \n",
    "\n",
    "$$\\begin{split}\n",
    "h_1^*+B_1 &= h_2^* + A_2 \\\\\n",
    "-kH\\frac{B_1}{\\lambda} &= kH\\frac{A_2}{\\lambda}\n",
    "\\end{split}$$\n",
    "\n",
    "Solving for the two remaining unknowns $A_2$ and $B_1$ gives\n",
    "\n",
    "$$\n",
    "B_1 = -\\frac{h_1^*-h_2^*}{2} \\qquad A_2 = \\frac{h_1^*-h_2^*}{2} \n",
    "$$\n",
    "\n",
    "and hence\n",
    "\n",
    "$$\\begin{split}\n",
    "h&=h_1^*  -\\frac{h_1^*-h_2^*}{2} \\text{e}^{x/\\lambda}  \\qquad x\\le 0 \\\\\n",
    "h&=h_2^* + \\frac{h_1^*-h_2^*}{2} \\text{e}^{-x/\\lambda} \\qquad x\\ge 0 \\\\\n",
    "\\end{split}$$\n",
    "\n",
    "Note that the head in the aquifer at $x=0$ is $(h_1^*+h_2^*)/2$ as is to be expected from symmetry for this case where the aquifer properties are the same on the left and right sides. The total flow $Q_0$ from the polder on the left to the polder on the right is obtained by evaluating the discharge vector at $x=0$, which gives $Q_0=kH(h_1^*-h_2^*)/(2\\lambda)$ (this is the discharge for a slice of 1 m normal to the plane of flow). The solution is plotted in the example below."
   ]
  },
  {
   "cell_type": "code",
   "execution_count": 3,
   "metadata": {},
   "outputs": [
    {
     "name": "stdout",
     "output_type": "stream",
     "text": [
      "the leakage factor is: 100.0 m\n"
     ]
    },
    {
     "data": {
      "image/png": "[encoded data removed]",
      "text/plain": [
       "<matplotlib.figure.Figure at 0x1dc9518ae10>"
      ]
     },
     "metadata": {},
     "output_type": "display_data"
    }
   ],
   "source": [
    "h1star = 1\n",
    "h2star = -1\n",
    "k = 10\n",
    "H = 10\n",
    "c = 100\n",
    "lab = sqrt(k * H *c)\n",
    "print('the leakage factor is:', lab, 'm')\n",
    "x = np.linspace(-5 * lab, 5 * lab, 100)\n",
    "h = zeros_like(x)\n",
    "h[x < 0] = h1star - (h1star - h2star) / 2 * exp(x[x < 0] / lab)\n",
    "h[x >= 0] = h2star + (h1star - h2star) / 2 * exp(-x[x >= 0] / lab)\n",
    "plot(x, h)\n",
    "xlabel('x (m)')\n",
    "ylabel('h (m)');"
   ]
  },
  {
   "cell_type": "markdown",
   "metadata": {},
   "source": [
    "### Exercises\n",
    "#### Exercise 1\n",
    "A semi-confined aquifer is bounded by two infinite rivers that are a distance $L$ apart. The origin of the $x$-axis is at the left river, and the heads along the river banks are $h_1$ on the left $(x=0)$ and $h_2$ on the right $(x=L)$. The head above the leaky layer is $h^*$. The transmissivity of the aquifer is $kH$ and the resistance of the semi-confining layer is $c$.\n",
    "\n",
    "Questions:\n",
    "\n",
    "a) Determine the head as a function of position\n",
    "\n",
    "It is given that: $kH=100$ m$^2$/d, $c=2000$ d, $L=2000$ m, $h_1=20$ m, $h_2=20$ m, $h^*=18$ m. \n",
    "\n",
    "b) Plot the head as a function of $x$.\n",
    "\n",
    "c) Determine the total leakage into the aquifer."
   ]
  },
  {
   "cell_type": "code",
   "execution_count": 12,
   "metadata": {},
   "outputs": [
    {
     "data": {
      "text/plain": [
       "[<matplotlib.lines.Line2D at 0x1dc965de550>]"
      ]
     },
     "execution_count": 12,
     "metadata": {},
     "output_type": "execute_result"
    },
    {
     "data": {
      "image/png": "[encoded data removed]",
      "text/plain": [
       "<matplotlib.figure.Figure at 0x1dc9657fd30>"
      ]
     },
     "metadata": {},
     "output_type": "display_data"
    }
   ],
   "source": [
    "h1 = 20\n",
    "h2 = 20\n",
    "L = 2000\n",
    "hstar = 18\n",
    "c = 2000\n",
    "kH = 100\n",
    "lab = sqrt(c * kH)\n",
    "x = linspace(0,L , 2000)\n",
    "h_left = (h1-hstar)*exp(-x/lab) + hstar \n",
    "h_right = (h2 - hstar)/ exp(L/lab)*exp(x/lab)+ hstar\n",
    "import numpy as np\n",
    "head = np.concatenate([h_left[x<1000],h_right[x>1000]])\n",
    "plot(x, head)"
   ]
  },
  {
   "cell_type": "code",
   "execution_count": null,
   "metadata": {},
   "outputs": [],
   "source": []
  },
  {
   "cell_type": "markdown",
   "metadata": {},
   "source": [
    "#### Exercise 2\n",
    "Consider one-dimensional steady flow into a long and wide lake with a leaky bottom. A coordinate system is chosen such that $x=0$ at the shore of the lake. For $x\\le 0$ flow is confined and the transmissivity of the aquifer is $kH$.  For $x\\ge 0$ flow is semi-confined. The transmissivity of the aquifer is $kH$, the resistance of the leaky semi-confining layer is $c$, and the water level in the lake is $h_L$. The discharge vector in the confined part of the aquifer is constant and is known from a water balance as $Q_x=Q_0$. \n",
    "\n",
    "Questions:\n",
    "\n",
    "a) Determine an expression for the head as a function of $x$ in the aquifer below the lake. Hint: Use that $Q_x(x=0)=Q_0$. \n",
    "\n",
    "b) Give an expression for the head $h_0$ in the aquifer at the lake shore $(x=0)$. \n",
    "\n",
    "c) Determine an expression for the head as a function of $x$ in the confined part of the aquifer.\n",
    "\n",
    "In order to measure the resistance of the lake bottom, an observation well is drilled at $x=-L$. The head in the observation well is $h_1$. Given: $kH=20$ m$^2$/d, $h_L=0$, $h_1=0.4$ m, $L=200$ m, $Q_0=0.02$ m$^2$/d.\n",
    "\n",
    "d) Compute the resistance of the lake bottom.\n",
    "\n",
    "e) Plot the head as a function of $x$.\n",
    "\n",
    "<img src=\"hw3_q1_fig.png\" width=\"450\">"
   ]
  },
  {
   "cell_type": "code",
   "execution_count": null,
   "metadata": {
    "collapsed": true
   },
   "outputs": [],
   "source": []
  },
  {
   "cell_type": "markdown",
   "metadata": {},
   "source": [
    "#### Exercise 3\n",
    "Consider one-dimensional flow between two lakes, as shown below. The semi-confined aquifer exends to infinity on both sides. The head in the polder on the left is $h_1^*$ while the head in the polder on the right is $h_2^*$. The aquifer parameters are $kH$ and $c$ and are the same everywhere. An impervious sheet is placed at the bottom of the lake over the interval $0\\le x\\le L$. \n",
    "\n",
    "Question:\n",
    "\n",
    "Determine the flow underneath the dam and compare your answer to the answer for the case without the impervious sheet (which was solved above).\n",
    "\n",
    "<img src=\"hw3_semi3.png\" width=\"450\">"
   ]
  },
  {
   "cell_type": "markdown",
   "metadata": {},
   "source": [
    "### Flow in a two-aquifer system\n",
    "Consider flow in a two-aquifer system as shown in the figure below.  Aquifers 1 and 2 have transmissivities $T_1=k_1H_1$ and $T_2=k_2H_2$, respectively, and are separated by a leaky layer with resistance to vertical flow $c$. The leakage between aquifer 2 (the bottom one) and aquifer 1 (the top one) is computed as\n",
    "\n",
    "$$\n",
    "q_z = \\frac{h_2-h_1}{c}\n",
    "$$\n",
    "\n",
    "where $h_1$ and $h_2$ are the heads in layers 1 and 2, respectively. Flow is steady and one-dimensional. Separate differential equations may be written down for the head in layer 1 and the head in layer 2 by substituting either $+q_z$ or $-q_z$ for $N$ in the differential equation,  which gives\n",
    "\n",
    "$$\\begin{split}\n",
    "\\frac{\\text{d}^2h_1}{\\text{d}x^2} &= \\frac{-q_z}{T_1} \\\\\n",
    "\\frac{\\text{d}^2h_2}{\\text{d}x^2}& = \\frac{q_z}{T_2}\n",
    "\\end{split}$$\n",
    "\n",
    "so that, with $q_z=(h_2-h_1)/c$,\n",
    "\n",
    "$$\\begin{split}\n",
    "\\frac{\\text{d}^2h_1}{\\text{d}x^2} &= \\frac{h_1-h_2}{cT_1} \\\\\n",
    "\\frac{\\text{d}^2h_2}{\\text{d}x^2}& = \\frac{h_2-h_1}{cT_2}\n",
    "\\end{split}$$\n",
    "This is a linked system of two ordinary differential equations.\n",
    "\n",
    "<img src=\"twoaq1.png\" width=\"300\">\n",
    "**Figure.** Flow in a two-aquifer system.\n",
    "\n",
    "\n",
    "Solution of the system of two coupled differential equations is complicated by the fact that both differential equations depend on both $h_1$ and $h_2$. A solution may be obtained when it is possible to split the system in two seperate differential equations for specific combinations of $h_1$ and $h_2$ as follows. The first equation is multiplied with $T_1$, the second equation is multiplied with $T_2$, and the two resulting equations are added, which gives\n",
    "\n",
    "$$\n",
    "\\frac{\\text{d}^2(T_1h_1+T_2h_2)}{\\text{d}x^2} = 0\n",
    "$$\n",
    "\n",
    "This equation shows that $(T_1h_1+T_2h_2)$ is governed by Laplace's differential equation, just like regular confined flow. \n",
    "\n",
    "Going back to the system of two differential equations and subtracting the second equation from the first equation   gives\n",
    "\n",
    "$$\n",
    "\\frac{\\text{d}^2(h_1-h_2)}{\\text{d}x^2}  = \\frac{h_1-h_2}{cT_1} - \\frac{h_2-h_1}{cT_2} = \\frac{T_1+T_2}{cT_1T_2}(h_1-h_2)\n",
    "$$\n",
    "\n",
    "or \n",
    "\n",
    "$$\n",
    "\\frac{\\text{d}^2(h_1-h_2)}{\\text{d}x^2}  =\\frac{h_1-h_2}{\\lambda^2}\n",
    "$$\n",
    "\n",
    "where\n",
    "\n",
    "$$\n",
    "\\lambda = \\sqrt{ \\frac{cT_1T_2}{T_1+T_2} }\n",
    "$$\n",
    "\n",
    "This shows that $(h_1-h_2)$ is governed by the modified Helmholtz equation, just like regular semi-confined flow, but the leakage factor $\\lambda$ is now defined as shown above.\n",
    "\n",
    "The solution for one-dimensional flow that fulfills Laplace's equation is\n",
    "\n",
    "$$\n",
    "T_1h_1+T_2h_2 = A^*x + B^* \n",
    "$$\n",
    "\n",
    "where $A^*$ and $B^*$ are coefficients to be chosen to meet boundary conditions. The solution for one-dimensional flow that fulfills the modified Helmholtz equation is given by\n",
    "\n",
    "$$\n",
    "h_1-h_2 = C^*\\text{e}^{-x/\\lambda} + D^*\\text{e}^{x/\\lambda}\n",
    "$$\n",
    "\n",
    "where $C^*$ an $D^*$ are coefficients to be chosen to meet boundary conditions. \n",
    "Multiplication of the second equation by $T_2$ and addition of the two equations gives\n",
    "\n",
    "$$\n",
    "(T_1+T_2)h_1 = A^*x + B^* + C^*T_2\\text{e}^{-x/\\lambda}+ D^*T_2\\text{e}^{x/\\lambda}\n",
    "$$\n",
    "\n",
    "while multiplication of the second equation by $T_1$ and subtration of the two equations gives\n",
    "\n",
    "$$\n",
    "(T_1+T_2)h_2 = A^*x + B^* - C^*T_1\\text{e}^{-x/\\lambda}- D^*T_1\\text{e}^{x/\\lambda}\n",
    "$$\n",
    "\n",
    "Introducing new coefficients $A$, $B$, $C$, and $D$ through division of the original coefficients with a star by $(T_1+T_2)$ gives\n",
    "\n",
    "$$\n",
    "h_1 = Ax + B + CT_2\\text{e}^{-x/\\lambda}+ DT_2\\text{e}^{x/\\lambda}\n",
    "$$\n",
    "\n",
    "$$\n",
    "h_2 = Ax + B - CT_1\\text{e}^{-x/\\lambda}- DT_1\\text{e}^{x/\\lambda}\n",
    "$$\n",
    "\n",
    "This solution for the discharge vectors in each layer, $Q_{x1}$ and $Q_{x2}$, are obtained by differentiation\n",
    "\n",
    "$$\n",
    "Q_{x1} = -AT_1 + C\\frac{T_1T_2}{\\lambda}\\text{e}^{-x/\\lambda} - D\\frac{T_1T_2}{\\lambda}\\text{e}^{x/\\lambda}\n",
    "$$\n",
    "\n",
    "$$\n",
    "Q_{x2} = -AT_2 - C\\frac{T_1T_2}{\\lambda}\\text{e}^{-x/\\lambda} + D\\frac{T_1T_2}{\\lambda}\\text{e}^{x/\\lambda}\n",
    "$$\n",
    "\n",
    "The total discharge in the aquifer $Q_x$ is the sum of the discharges in layers 1 and 2 and simplifies to\n",
    "\n",
    "$$\n",
    "Q_x = -A(T_1+T_2)\n",
    "$$\n",
    "\n",
    "Note that the vertical flow between layer 2 and layer 1 may be obtained directly from the definition of $q_z$ and the equations for $h_1$ and $h_2$\n",
    "\n",
    "$$\n",
    "q_z = -\\frac{(T_1+T_2)(C\\text{e}^{-x/\\lambda} + D\\text{e}^{x/\\lambda})}{c}\n",
    "$$"
   ]
  },
  {
   "cell_type": "markdown",
   "metadata": {},
   "source": [
    "### Flow to a canal screened in layer 1\n",
    "Consider two-aquifer flow in an infinite aquifer with a canal in the top layer (see the figure belo). \n",
    "\n",
    "\n",
    "<img src=\"twoaq2.png\" width=\"300\">\n",
    "**Figure.** Flow in a semi-infinite two-aquifer system with a canal in the top layer\n",
    "\n",
    "The head is governed by the system of differential equations presented in the previous section. The boundary conditions are that to the far left the gradient of the head is specified as $G$ in both aquifers, the head in the canal is equal to $h_0$ and the flow system is symmetric (i.e., the inflow into the canal is equal on both sides), so that the flow is zero in layer 2 below the canal. In mathematical terms\n",
    "\n",
    "$$\\begin{split}\n",
    "&x\\to-\\infty \\qquad Q_{x1}=-T_1 G \\\\\n",
    "&x\\to-\\infty \\qquad Q_{x2}=-T_2 G \\\\\n",
    "&h_1(x=0)=h_0 \\\\\n",
    "&Q_{x2}(x=0)=0 \n",
    "\\end{split}$$\n",
    "\n",
    "Application of the first boundary conditions gives $C=0$ and\n",
    "\n",
    "$$\n",
    "Q_{x1} = -AT_1 = -T_1G \\qquad \\to \\qquad A=G\n",
    "$$\n",
    "\n",
    "Application of the last boundary condition gives\n",
    "\n",
    "$$\n",
    "Q_{x2}(x=0) = -GT_2 + D\\frac{T_1T_2}{\\lambda} = 0 \\qquad \\to \\qquad  D=G\\lambda/T_1 \n",
    "$$\n",
    "\n",
    "Finally, application of the boundary condition in layer 1 at $x=0$ gives\n",
    "\n",
    "$$\n",
    "h_1(x=0) = B + G\\lambda T_2/T_1 = h_0 \\qquad \\to \\qquad  B=h_0-G\\lambda T_2/T_1\n",
    "$$\n",
    "\n",
    "The solution for the head now becomes\n",
    "\n",
    "$$\\begin{split}\n",
    "h_1 &= Gx + \\frac{G\\lambda T_2}{T_1}\\text{e}^{x/\\lambda} -\\frac{G\\lambda T_2}{T_1} + h_0 \\\\\n",
    "h_2 &= Gx - G\\lambda\\text{e}^{x/\\lambda} - \\frac{G\\lambda T_2}{T_1} + h_0\n",
    "\\end{split}$$\n",
    "\n",
    "Note that the total discharge $Q_0$ towards the canal from the left side is the sum of the discharges in the two layers, which is, from continuity, $Q_0=-(T_1+T_2)G$. \n",
    "An expression for the discharge in both aquifers is obtained through differentiation\n",
    "\n",
    "$$\\begin{split}\n",
    "Q_{x1} &= -T_1\\frac{\\text{d}h_1}{\\text{d} x} = -T_1G - G T_2\\text{e}^{x/\\lambda} \\\\\n",
    "Q_{x2} &= -T_2\\frac{\\text{d}h_1}{\\text{d} x} =-T_2G +  GT_2\\text{e}^{x/\\lambda}\n",
    "\\end{split}$$\n",
    "\n",
    "so that indeed everywhere $Q_{x_1}+Q_{x2}=Q_0$ and at the canal $Q_{x1}(x=0)=Q_0$ and $Q_{x2}(x=0)=0$.\n"
   ]
  },
  {
   "cell_type": "markdown",
   "metadata": {},
   "source": [
    "---\n",
    "*Note: Questions 1 and 3 were modified from Strack, 1989, Groundwater Mechanics*"
   ]
  }
 ],
 "metadata": {
  "kernelspec": {
   "display_name": "Python 3",
   "language": "python",
   "name": "python3"
  },
  "language_info": {
   "codemirror_mode": {
    "name": "ipython",
    "version": 3
   },
   "file_extension": ".py",
   "mimetype": "text/x-python",
   "name": "python",
   "nbconvert_exporter": "python",
   "pygments_lexer": "ipython3",
   "version": "3.6.3"
  }
 },
 "nbformat": 4,
 "nbformat_minor": 1
}
